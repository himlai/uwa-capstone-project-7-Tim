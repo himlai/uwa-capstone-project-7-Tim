{
 "cells": [
  {
   "cell_type": "code",
   "execution_count": 104,
   "metadata": {},
   "outputs": [],
   "source": [
    "import numpy as np\n",
    "import pandas as pd\n",
    "from datetime import datetime\n",
    "import re\n",
    "import shap\n",
    "from tensorflow import keras\n",
    "from tensorflow.keras.layers import TextVectorization\n",
    "from tensorflow.keras.layers import Embedding\n",
    "from tensorflow.keras import layers\n",
    "import seaborn as sns\n",
    "from matplotlib import pyplot as plt\n",
    "from tensorflow.keras.callbacks import EarlyStopping\n",
    "import  tensorflow as tf\n",
    "from gensim.models import KeyedVectors\n",
    "from sklearn.model_selection import cross_val_score\n",
    "from sklearn.compose import ColumnTransformer\n",
    "from sklearn.preprocessing import OneHotEncoder, StandardScaler, LabelEncoder\n",
    "from sklearn.impute import SimpleImputer\n",
    "from sklearn.metrics import f1_score, accuracy_score, confusion_matrix,ConfusionMatrixDisplay,classification_report, roc_auc_score"
   ]
  },
  {
   "cell_type": "code",
   "execution_count": 105,
   "metadata": {},
   "outputs": [],
   "source": [
    "df = pd.read_csv('C:/Users/lai_h/Documents/GitHub/Capstone-Private-/dataset/edstays3_v3.csv')"
   ]
  },
  {
   "cell_type": "code",
   "execution_count": 106,
   "metadata": {},
   "outputs": [],
   "source": [
    "# rename columns stay_id_triage to stay_id \n",
    "df.rename(columns={'stay_id_triage':'stay_id'}, inplace=True)\n",
    "df.rename(columns={'subject_id_triage':'subject_id'}, inplace=True)\n"
   ]
  },
  {
   "cell_type": "code",
   "execution_count": 107,
   "metadata": {},
   "outputs": [],
   "source": [
    "icd_code_df = pd.read_csv('C:/Users/lai_h/Documents/GitHub/Capstone-Private-/dataset/previous_icd_code.csv') "
   ]
  },
  {
   "cell_type": "code",
   "execution_count": 108,
   "metadata": {},
   "outputs": [],
   "source": [
    "vital = pd.read_csv('C:/Users/lai_h/Documents/GitHub/Capstone-Private-/dataset/vitalsign.csv')"
   ]
  },
  {
   "cell_type": "code",
   "execution_count": 109,
   "metadata": {},
   "outputs": [
    {
     "name": "stdout",
     "output_type": "stream",
     "text": [
      "<class 'pandas.core.frame.DataFrame'>\n",
      "RangeIndex: 1646976 entries, 0 to 1646975\n",
      "Data columns (total 11 columns):\n",
      " #   Column       Non-Null Count    Dtype  \n",
      "---  ------       --------------    -----  \n",
      " 0   subject_id   1646976 non-null  int64  \n",
      " 1   stay_id      1646976 non-null  int64  \n",
      " 2   charttime    1646976 non-null  object \n",
      " 3   temperature  1052781 non-null  float64\n",
      " 4   heartrate    1573609 non-null  float64\n",
      " 5   resprate     1552909 non-null  float64\n",
      " 6   o2sat        1503831 non-null  float64\n",
      " 7   sbp          1561439 non-null  float64\n",
      " 8   dbp          1561439 non-null  float64\n",
      " 9   rhythm       62792 non-null    object \n",
      " 10  pain         1180066 non-null  object \n",
      "dtypes: float64(6), int64(2), object(3)\n",
      "memory usage: 138.2+ MB\n"
     ]
    }
   ],
   "source": [
    "vital.info()\n"
   ]
  },
  {
   "cell_type": "code",
   "execution_count": 110,
   "metadata": {},
   "outputs": [],
   "source": [
    "vi_count = vital.groupby(['subject_id', 'stay_id']).size()"
   ]
  },
  {
   "cell_type": "code",
   "execution_count": 111,
   "metadata": {},
   "outputs": [
    {
     "data": {
      "text/plain": [
       "subject_id  stay_id \n",
       "10000032    32952584     7\n",
       "            33258284     1\n",
       "            35968195     2\n",
       "            38112554     2\n",
       "            39399961    11\n",
       "                        ..\n",
       "19999784    37972930     4\n",
       "19999828    30712109    11\n",
       "            32917002     7\n",
       "19999914    32002659     1\n",
       "19999987    34731548     3\n",
       "Length: 429839, dtype: int64"
      ]
     },
     "execution_count": 111,
     "metadata": {},
     "output_type": "execute_result"
    }
   ],
   "source": [
    "vi_count"
   ]
  },
  {
   "cell_type": "code",
   "execution_count": 112,
   "metadata": {},
   "outputs": [],
   "source": [
    "df3 = df.merge(vi_count.to_frame(name = \"count_vital\"), on=['subject_id', 'stay_id'])"
   ]
  },
  {
   "cell_type": "code",
   "execution_count": 113,
   "metadata": {},
   "outputs": [
    {
     "data": {
      "text/html": [
       "<div><div id=8754cfba-1ab4-4af4-9ca5-a0eb3fa986d2 style=\"display:none; background-color:#9D6CFF; color:white; width:200px; height:30px; padding-left:5px; border-radius:4px; flex-direction:row; justify-content:space-around; align-items:center;\" onmouseover=\"this.style.backgroundColor='#BA9BF8'\" onmouseout=\"this.style.backgroundColor='#9D6CFF'\" onclick=\"window.commands?.execute('create-mitosheet-from-dataframe-output');\">See Full Dataframe in Mito</div> <script> if (window.commands?.hasCommand('create-mitosheet-from-dataframe-output')) document.getElementById('8754cfba-1ab4-4af4-9ca5-a0eb3fa986d2').style.display = 'flex' </script> <table border=\"1\" class=\"dataframe\">\n",
       "  <thead>\n",
       "    <tr style=\"text-align: right;\">\n",
       "      <th></th>\n",
       "      <th>Unnamed: 0</th>\n",
       "      <th>subject_id</th>\n",
       "      <th>stay_id</th>\n",
       "      <th>gender</th>\n",
       "      <th>race</th>\n",
       "      <th>arrival_transport</th>\n",
       "      <th>disposition</th>\n",
       "      <th>disposition_binary</th>\n",
       "      <th>admitted</th>\n",
       "      <th>difftime</th>\n",
       "      <th>...</th>\n",
       "      <th>chiefcomplaint</th>\n",
       "      <th>temperature_vitals</th>\n",
       "      <th>heartrate_vitals</th>\n",
       "      <th>resprate_vitals</th>\n",
       "      <th>o2sat_vitals</th>\n",
       "      <th>sbp_vitals</th>\n",
       "      <th>dbp_vitals</th>\n",
       "      <th>rhythm</th>\n",
       "      <th>pain_vitals</th>\n",
       "      <th>count_vital</th>\n",
       "    </tr>\n",
       "  </thead>\n",
       "  <tbody>\n",
       "    <tr>\n",
       "      <th>0</th>\n",
       "      <td>0</td>\n",
       "      <td>10000032</td>\n",
       "      <td>33258284</td>\n",
       "      <td>F</td>\n",
       "      <td>WHITE</td>\n",
       "      <td>AMBULANCE</td>\n",
       "      <td>ADMITTED</td>\n",
       "      <td>0</td>\n",
       "      <td>1</td>\n",
       "      <td>0 days 04:13:00</td>\n",
       "      <td>...</td>\n",
       "      <td>Abd pain, Abdominal distention</td>\n",
       "      <td>98.1</td>\n",
       "      <td>83.0</td>\n",
       "      <td>24.0</td>\n",
       "      <td>97.0</td>\n",
       "      <td>90.0</td>\n",
       "      <td>51.0</td>\n",
       "      <td>NaN</td>\n",
       "      <td>0.0</td>\n",
       "      <td>1</td>\n",
       "    </tr>\n",
       "    <tr>\n",
       "      <th>1</th>\n",
       "      <td>1</td>\n",
       "      <td>10000032</td>\n",
       "      <td>38112554</td>\n",
       "      <td>F</td>\n",
       "      <td>WHITE</td>\n",
       "      <td>AMBULANCE</td>\n",
       "      <td>ADMITTED</td>\n",
       "      <td>0</td>\n",
       "      <td>1</td>\n",
       "      <td>0 days 05:37:00</td>\n",
       "      <td>...</td>\n",
       "      <td>Abdominal distention</td>\n",
       "      <td>98.1</td>\n",
       "      <td>85.0</td>\n",
       "      <td>22.0</td>\n",
       "      <td>98.0</td>\n",
       "      <td>76.0</td>\n",
       "      <td>39.0</td>\n",
       "      <td>NaN</td>\n",
       "      <td>0.0</td>\n",
       "      <td>2</td>\n",
       "    </tr>\n",
       "    <tr>\n",
       "      <th>2</th>\n",
       "      <td>2</td>\n",
       "      <td>10000032</td>\n",
       "      <td>35968195</td>\n",
       "      <td>F</td>\n",
       "      <td>WHITE</td>\n",
       "      <td>AMBULANCE</td>\n",
       "      <td>ADMITTED</td>\n",
       "      <td>0</td>\n",
       "      <td>1</td>\n",
       "      <td>30 days 04:46:00</td>\n",
       "      <td>...</td>\n",
       "      <td>n/v/d, Abd pain</td>\n",
       "      <td>98.1</td>\n",
       "      <td>84.0</td>\n",
       "      <td>22.0</td>\n",
       "      <td>97.0</td>\n",
       "      <td>75.0</td>\n",
       "      <td>39.0</td>\n",
       "      <td>NaN</td>\n",
       "      <td>0.0</td>\n",
       "      <td>2</td>\n",
       "    </tr>\n",
       "    <tr>\n",
       "      <th>3</th>\n",
       "      <td>4</td>\n",
       "      <td>10000032</td>\n",
       "      <td>39399961</td>\n",
       "      <td>F</td>\n",
       "      <td>WHITE</td>\n",
       "      <td>AMBULANCE</td>\n",
       "      <td>ADMITTED</td>\n",
       "      <td>0</td>\n",
       "      <td>1</td>\n",
       "      <td>0 days 08:06:00</td>\n",
       "      <td>...</td>\n",
       "      <td>Abdominal distention, Abd pain, LETHAGIC</td>\n",
       "      <td>98.4</td>\n",
       "      <td>86.0</td>\n",
       "      <td>20.0</td>\n",
       "      <td>98.0</td>\n",
       "      <td>65.0</td>\n",
       "      <td>37.0</td>\n",
       "      <td>NaN</td>\n",
       "      <td>0.0</td>\n",
       "      <td>11</td>\n",
       "    </tr>\n",
       "    <tr>\n",
       "      <th>4</th>\n",
       "      <td>5</td>\n",
       "      <td>10000084</td>\n",
       "      <td>35203156</td>\n",
       "      <td>M</td>\n",
       "      <td>WHITE</td>\n",
       "      <td>WALK IN</td>\n",
       "      <td>ADMITTED</td>\n",
       "      <td>0</td>\n",
       "      <td>1</td>\n",
       "      <td>0 days 06:44:00</td>\n",
       "      <td>...</td>\n",
       "      <td>Confusion, Hallucinations</td>\n",
       "      <td>98.1</td>\n",
       "      <td>85.0</td>\n",
       "      <td>16.0</td>\n",
       "      <td>99.0</td>\n",
       "      <td>83.0</td>\n",
       "      <td>45.0</td>\n",
       "      <td>NaN</td>\n",
       "      <td>0.0</td>\n",
       "      <td>3</td>\n",
       "    </tr>\n",
       "  </tbody>\n",
       "</table></div>"
      ],
      "text/plain": [
       "   Unnamed: 0  subject_id   stay_id gender   race arrival_transport  \\\n",
       "0           0    10000032  33258284      F  WHITE         AMBULANCE   \n",
       "1           1    10000032  38112554      F  WHITE         AMBULANCE   \n",
       "2           2    10000032  35968195      F  WHITE         AMBULANCE   \n",
       "3           4    10000032  39399961      F  WHITE         AMBULANCE   \n",
       "4           5    10000084  35203156      M  WHITE           WALK IN   \n",
       "\n",
       "  disposition  disposition_binary  admitted          difftime  ...  \\\n",
       "0    ADMITTED                   0         1   0 days 04:13:00  ...   \n",
       "1    ADMITTED                   0         1   0 days 05:37:00  ...   \n",
       "2    ADMITTED                   0         1  30 days 04:46:00  ...   \n",
       "3    ADMITTED                   0         1   0 days 08:06:00  ...   \n",
       "4    ADMITTED                   0         1   0 days 06:44:00  ...   \n",
       "\n",
       "                             chiefcomplaint  temperature_vitals  \\\n",
       "0            Abd pain, Abdominal distention                98.1   \n",
       "1                      Abdominal distention                98.1   \n",
       "2                           n/v/d, Abd pain                98.1   \n",
       "3  Abdominal distention, Abd pain, LETHAGIC                98.4   \n",
       "4                 Confusion, Hallucinations                98.1   \n",
       "\n",
       "   heartrate_vitals  resprate_vitals  o2sat_vitals  sbp_vitals  dbp_vitals  \\\n",
       "0              83.0             24.0          97.0        90.0        51.0   \n",
       "1              85.0             22.0          98.0        76.0        39.0   \n",
       "2              84.0             22.0          97.0        75.0        39.0   \n",
       "3              86.0             20.0          98.0        65.0        37.0   \n",
       "4              85.0             16.0          99.0        83.0        45.0   \n",
       "\n",
       "   rhythm  pain_vitals  count_vital  \n",
       "0     NaN          0.0            1  \n",
       "1     NaN          0.0            2  \n",
       "2     NaN          0.0            2  \n",
       "3     NaN          0.0           11  \n",
       "4     NaN          0.0            3  \n",
       "\n",
       "[5 rows x 33 columns]"
      ]
     },
     "execution_count": 113,
     "metadata": {},
     "output_type": "execute_result"
    }
   ],
   "source": [
    "df3.head()\n"
   ]
  },
  {
   "cell_type": "code",
   "execution_count": 114,
   "metadata": {},
   "outputs": [],
   "source": [
    "my_imputer = SimpleImputer(strategy = 'median')\n",
    "df3_num_attr = ['temperature_vitals', 'heartrate_vitals', 'resprate_vitals', 'o2sat_vitals', 'sbp_vitals', 'dbp_vitals',\n",
    "            'temperature_triage', 'heartrate_triage', 'resprate_triage', 'o2sat_triage', 'sbp_triage', 'dbp_triage']\n",
    "df3[df3_num_attr] = my_imputer.fit_transform(df3[df3_num_attr])\n",
    "\n",
    "num_attr = ['temperature', 'heartrate', 'resprate', 'o2sat', 'sbp', 'dbp']\n",
    "vital[num_attr] = my_imputer.fit_transform(vital[num_attr])"
   ]
  },
  {
   "cell_type": "code",
   "execution_count": 115,
   "metadata": {},
   "outputs": [],
   "source": [
    "vital2_dict = {}\n",
    "run_num = -1\n",
    "num_attr = ['temperature', 'heartrate', 'resprate', 'o2sat', 'sbp', 'dbp']\n",
    "\n",
    "for i in range(len(df3)):\n",
    "  vital2_dict[i] = np.array(vital.loc[(run_num+1):(run_num+df3.loc[i,'count_vital']),num_attr])\n",
    "  run_num =run_num+df3.loc[i,'count_vital']"
   ]
  },
  {
   "cell_type": "code",
   "execution_count": 116,
   "metadata": {},
   "outputs": [],
   "source": [
    "vital3_dict = {}\n",
    "for i in range(len(vital2_dict)):\n",
    "  if (len(vital2_dict[i]) == 1): vital3_dict[i] = [(np.append(np.append(vital2_dict[i],vital2_dict[i], axis=0),vital2_dict[i], axis=0))]\n",
    "  elif (len(vital2_dict[i]) == 2): vital3_dict[i] = [(np.append(vital2_dict[i], np.array([vital2_dict[i][1]]),axis=0))]\n",
    "  else:\n",
    "    vital3_dict[i] = [(vital2_dict[i][-3:])]"
   ]
  },
  {
   "cell_type": "code",
   "execution_count": 117,
   "metadata": {},
   "outputs": [
    {
     "data": {
      "text/plain": [
       "array([[98.1, 83. , 24. , 97. , 90. , 51. ]])"
      ]
     },
     "execution_count": 117,
     "metadata": {},
     "output_type": "execute_result"
    }
   ],
   "source": [
    "vital2_dict[0]"
   ]
  },
  {
   "cell_type": "code",
   "execution_count": 118,
   "metadata": {},
   "outputs": [],
   "source": [
    "temp = pd.DataFrame.from_dict(vital3_dict, orient = 'index')\n",
    "temp.columns = ['vital_sign']\n",
    "df3 = pd.merge(df3,temp,how = 'left',left_index=True,right_index=True)"
   ]
  },
  {
   "cell_type": "code",
   "execution_count": 119,
   "metadata": {},
   "outputs": [
    {
     "data": {
      "text/plain": [
       "(3, 6)"
      ]
     },
     "execution_count": 119,
     "metadata": {},
     "output_type": "execute_result"
    }
   ],
   "source": [
    "temp.vital_sign[0].shape"
   ]
  },
  {
   "cell_type": "code",
   "execution_count": 120,
   "metadata": {},
   "outputs": [],
   "source": [
    "# rename columns subject_id_triage to subject_id\n",
    "# rename columns stay_id_triage to stay_id\n",
    "df3.rename(columns={'subject_id_triage':'subject_id', 'stay_id_triage':'stay_id'}, inplace=True)"
   ]
  },
  {
   "cell_type": "code",
   "execution_count": 121,
   "metadata": {},
   "outputs": [
    {
     "data": {
      "text/html": [
       "<div><div id=6991b34e-8e35-46f1-a5b2-e5fed5a7e345 style=\"display:none; background-color:#9D6CFF; color:white; width:200px; height:30px; padding-left:5px; border-radius:4px; flex-direction:row; justify-content:space-around; align-items:center;\" onmouseover=\"this.style.backgroundColor='#BA9BF8'\" onmouseout=\"this.style.backgroundColor='#9D6CFF'\" onclick=\"window.commands?.execute('create-mitosheet-from-dataframe-output');\">See Full Dataframe in Mito</div> <script> if (window.commands?.hasCommand('create-mitosheet-from-dataframe-output')) document.getElementById('6991b34e-8e35-46f1-a5b2-e5fed5a7e345').style.display = 'flex' </script> <table border=\"1\" class=\"dataframe\">\n",
       "  <thead>\n",
       "    <tr style=\"text-align: right;\">\n",
       "      <th></th>\n",
       "      <th>Unnamed: 0</th>\n",
       "      <th>subject_id</th>\n",
       "      <th>stay_id</th>\n",
       "      <th>gender</th>\n",
       "      <th>race</th>\n",
       "      <th>arrival_transport</th>\n",
       "      <th>disposition</th>\n",
       "      <th>disposition_binary</th>\n",
       "      <th>admitted</th>\n",
       "      <th>difftime</th>\n",
       "      <th>...</th>\n",
       "      <th>temperature_vitals</th>\n",
       "      <th>heartrate_vitals</th>\n",
       "      <th>resprate_vitals</th>\n",
       "      <th>o2sat_vitals</th>\n",
       "      <th>sbp_vitals</th>\n",
       "      <th>dbp_vitals</th>\n",
       "      <th>rhythm</th>\n",
       "      <th>pain_vitals</th>\n",
       "      <th>count_vital</th>\n",
       "      <th>vital_sign</th>\n",
       "    </tr>\n",
       "  </thead>\n",
       "  <tbody>\n",
       "    <tr>\n",
       "      <th>0</th>\n",
       "      <td>0</td>\n",
       "      <td>10000032</td>\n",
       "      <td>33258284</td>\n",
       "      <td>F</td>\n",
       "      <td>WHITE</td>\n",
       "      <td>AMBULANCE</td>\n",
       "      <td>ADMITTED</td>\n",
       "      <td>0</td>\n",
       "      <td>1</td>\n",
       "      <td>0 days 04:13:00</td>\n",
       "      <td>...</td>\n",
       "      <td>98.1</td>\n",
       "      <td>83.0</td>\n",
       "      <td>24.0</td>\n",
       "      <td>97.0</td>\n",
       "      <td>90.0</td>\n",
       "      <td>51.0</td>\n",
       "      <td>NaN</td>\n",
       "      <td>0.0</td>\n",
       "      <td>1</td>\n",
       "      <td>[[98.1, 83.0, 24.0, 97.0, 90.0, 51.0], [98.1, 83.0, 24.0, 97.0, 90.0, 51.0], [98.1, 83.0, 24.0, 97.0, 90.0, 51.0]]</td>\n",
       "    </tr>\n",
       "    <tr>\n",
       "      <th>1</th>\n",
       "      <td>1</td>\n",
       "      <td>10000032</td>\n",
       "      <td>38112554</td>\n",
       "      <td>F</td>\n",
       "      <td>WHITE</td>\n",
       "      <td>AMBULANCE</td>\n",
       "      <td>ADMITTED</td>\n",
       "      <td>0</td>\n",
       "      <td>1</td>\n",
       "      <td>0 days 05:37:00</td>\n",
       "      <td>...</td>\n",
       "      <td>98.1</td>\n",
       "      <td>85.0</td>\n",
       "      <td>22.0</td>\n",
       "      <td>98.0</td>\n",
       "      <td>76.0</td>\n",
       "      <td>39.0</td>\n",
       "      <td>NaN</td>\n",
       "      <td>0.0</td>\n",
       "      <td>2</td>\n",
       "      <td>[[98.1, 85.0, 22.0, 98.0, 76.0, 39.0], [98.1, 84.0, 22.0, 97.0, 75.0, 39.0], [98.1, 84.0, 22.0, 97.0, 75.0, 39.0]]</td>\n",
       "    </tr>\n",
       "    <tr>\n",
       "      <th>2</th>\n",
       "      <td>2</td>\n",
       "      <td>10000032</td>\n",
       "      <td>35968195</td>\n",
       "      <td>F</td>\n",
       "      <td>WHITE</td>\n",
       "      <td>AMBULANCE</td>\n",
       "      <td>ADMITTED</td>\n",
       "      <td>0</td>\n",
       "      <td>1</td>\n",
       "      <td>30 days 04:46:00</td>\n",
       "      <td>...</td>\n",
       "      <td>98.1</td>\n",
       "      <td>84.0</td>\n",
       "      <td>22.0</td>\n",
       "      <td>97.0</td>\n",
       "      <td>75.0</td>\n",
       "      <td>39.0</td>\n",
       "      <td>NaN</td>\n",
       "      <td>0.0</td>\n",
       "      <td>2</td>\n",
       "      <td>[[98.1, 84.0, 20.0, 99.0, 86.0, 51.0], [98.4, 86.0, 20.0, 98.0, 65.0, 37.0], [98.4, 86.0, 20.0, 98.0, 65.0, 37.0]]</td>\n",
       "    </tr>\n",
       "    <tr>\n",
       "      <th>3</th>\n",
       "      <td>4</td>\n",
       "      <td>10000032</td>\n",
       "      <td>39399961</td>\n",
       "      <td>F</td>\n",
       "      <td>WHITE</td>\n",
       "      <td>AMBULANCE</td>\n",
       "      <td>ADMITTED</td>\n",
       "      <td>0</td>\n",
       "      <td>1</td>\n",
       "      <td>0 days 08:06:00</td>\n",
       "      <td>...</td>\n",
       "      <td>98.4</td>\n",
       "      <td>86.0</td>\n",
       "      <td>20.0</td>\n",
       "      <td>98.0</td>\n",
       "      <td>65.0</td>\n",
       "      <td>37.0</td>\n",
       "      <td>NaN</td>\n",
       "      <td>0.0</td>\n",
       "      <td>11</td>\n",
       "      <td>[[98.1, 78.0, 18.0, 95.0, 88.0, 57.0], [98.1, 78.0, 18.0, 94.0, 82.0, 55.0], [98.1, 94.0, 16.0, 95.0, 73.0, 51.0]]</td>\n",
       "    </tr>\n",
       "    <tr>\n",
       "      <th>4</th>\n",
       "      <td>5</td>\n",
       "      <td>10000084</td>\n",
       "      <td>35203156</td>\n",
       "      <td>M</td>\n",
       "      <td>WHITE</td>\n",
       "      <td>WALK IN</td>\n",
       "      <td>ADMITTED</td>\n",
       "      <td>0</td>\n",
       "      <td>1</td>\n",
       "      <td>0 days 06:44:00</td>\n",
       "      <td>...</td>\n",
       "      <td>98.1</td>\n",
       "      <td>85.0</td>\n",
       "      <td>16.0</td>\n",
       "      <td>99.0</td>\n",
       "      <td>83.0</td>\n",
       "      <td>45.0</td>\n",
       "      <td>NaN</td>\n",
       "      <td>0.0</td>\n",
       "      <td>3</td>\n",
       "      <td>[[98.1, 86.0, 18.0, 94.0, 93.0, 54.0], [98.1, 81.0, 18.0, 92.0, 82.0, 54.0], [98.1, 83.0, 16.0, 92.0, 76.0, 48.0]]</td>\n",
       "    </tr>\n",
       "  </tbody>\n",
       "</table></div>"
      ],
      "text/plain": [
       "   Unnamed: 0  subject_id   stay_id gender   race arrival_transport  \\\n",
       "0           0    10000032  33258284      F  WHITE         AMBULANCE   \n",
       "1           1    10000032  38112554      F  WHITE         AMBULANCE   \n",
       "2           2    10000032  35968195      F  WHITE         AMBULANCE   \n",
       "3           4    10000032  39399961      F  WHITE         AMBULANCE   \n",
       "4           5    10000084  35203156      M  WHITE           WALK IN   \n",
       "\n",
       "  disposition  disposition_binary  admitted          difftime  ...  \\\n",
       "0    ADMITTED                   0         1   0 days 04:13:00  ...   \n",
       "1    ADMITTED                   0         1   0 days 05:37:00  ...   \n",
       "2    ADMITTED                   0         1  30 days 04:46:00  ...   \n",
       "3    ADMITTED                   0         1   0 days 08:06:00  ...   \n",
       "4    ADMITTED                   0         1   0 days 06:44:00  ...   \n",
       "\n",
       "   temperature_vitals  heartrate_vitals  resprate_vitals  o2sat_vitals  \\\n",
       "0                98.1              83.0             24.0          97.0   \n",
       "1                98.1              85.0             22.0          98.0   \n",
       "2                98.1              84.0             22.0          97.0   \n",
       "3                98.4              86.0             20.0          98.0   \n",
       "4                98.1              85.0             16.0          99.0   \n",
       "\n",
       "   sbp_vitals  dbp_vitals  rhythm  pain_vitals  count_vital  \\\n",
       "0        90.0        51.0     NaN          0.0            1   \n",
       "1        76.0        39.0     NaN          0.0            2   \n",
       "2        75.0        39.0     NaN          0.0            2   \n",
       "3        65.0        37.0     NaN          0.0           11   \n",
       "4        83.0        45.0     NaN          0.0            3   \n",
       "\n",
       "                                          vital_sign  \n",
       "0  [[98.1, 83.0, 24.0, 97.0, 90.0, 51.0], [98.1, ...  \n",
       "1  [[98.1, 85.0, 22.0, 98.0, 76.0, 39.0], [98.1, ...  \n",
       "2  [[98.1, 84.0, 20.0, 99.0, 86.0, 51.0], [98.4, ...  \n",
       "3  [[98.1, 78.0, 18.0, 95.0, 88.0, 57.0], [98.1, ...  \n",
       "4  [[98.1, 86.0, 18.0, 94.0, 93.0, 54.0], [98.1, ...  \n",
       "\n",
       "[5 rows x 34 columns]"
      ]
     },
     "execution_count": 121,
     "metadata": {},
     "output_type": "execute_result"
    }
   ],
   "source": [
    "df3.head()"
   ]
  },
  {
   "cell_type": "code",
   "execution_count": 122,
   "metadata": {},
   "outputs": [
    {
     "data": {
      "text/plain": [
       "(3, 6)"
      ]
     },
     "execution_count": 122,
     "metadata": {},
     "output_type": "execute_result"
    }
   ],
   "source": [
    "df3.vital_sign[0].shape"
   ]
  },
  {
   "cell_type": "code",
   "execution_count": 123,
   "metadata": {},
   "outputs": [],
   "source": [
    "# Data Merging for NLP\n",
    "df3 = pd.merge(df3, icd_code_df[['subject_id', 'stay_id','pre_icd_code']], how = \"left\" ,on=['subject_id', 'stay_id'])"
   ]
  },
  {
   "cell_type": "code",
   "execution_count": 124,
   "metadata": {},
   "outputs": [
    {
     "data": {
      "text/plain": [
       "Index(['Unnamed: 0', 'subject_id', 'stay_id', 'gender', 'race',\n",
       "       'arrival_transport', 'disposition', 'disposition_binary', 'admitted',\n",
       "       'difftime', 'nights', 'hours', 'admission_hour', 'admission_day',\n",
       "       'admission_day_of_week', 'temperature_triage', 'heartrate_triage',\n",
       "       'resprate_triage', 'o2sat_triage', 'sbp_triage', 'dbp_triage',\n",
       "       'pain_triage', 'acuity', 'chiefcomplaint', 'temperature_vitals',\n",
       "       'heartrate_vitals', 'resprate_vitals', 'o2sat_vitals', 'sbp_vitals',\n",
       "       'dbp_vitals', 'rhythm', 'pain_vitals', 'count_vital', 'vital_sign',\n",
       "       'pre_icd_code'],\n",
       "      dtype='object')"
      ]
     },
     "execution_count": 124,
     "metadata": {},
     "output_type": "execute_result"
    }
   ],
   "source": [
    "df3.columns"
   ]
  },
  {
   "cell_type": "markdown",
   "metadata": {},
   "source": [
    "# Preprocessing "
   ]
  },
  {
   "cell_type": "code",
   "execution_count": 125,
   "metadata": {},
   "outputs": [],
   "source": [
    "num_attr = df3.select_dtypes(include=['float64', 'int64']).columns\n",
    "# remove disposition_binary in num_attr\n",
    "num_attr = num_attr.drop(\"disposition_binary\")\n",
    "cat_attr = df3.select_dtypes(include=['O']).columns\n",
    "#bool_attr = edstay_ad.select_dtypes(include=['bool']).columns\n",
    "# remove pre_icd_code and chief_complaint in cat_attr\n",
    "cat_attr = cat_attr.drop([\"pre_icd_code\", \"chiefcomplaint\"])"
   ]
  },
  {
   "cell_type": "markdown",
   "metadata": {
    "id": "1Ppo387um95r"
   },
   "source": [
    "# 3. Embedding for chief complaint and historical icd code\n",
    "\n",
    "### 3.1 Embedding for chief complaint"
   ]
  },
  {
   "cell_type": "code",
   "execution_count": 126,
   "metadata": {},
   "outputs": [],
   "source": [
    "# Preprocess the job_description (remove the weird part of strings)\n",
    "def preprocess_text(text):\n",
    "    if type(text) == float:\n",
    "        return text\n",
    "    text = text.lower()\n",
    "    text = re.sub(r\"([.,!?])\", r\" \\1 \", text)\n",
    "    text = re.sub(r\"[^a-zA-Z.,!?]+\", r\" \", text)\n",
    "    return text\n",
    "df3.loc[df3['chiefcomplaint'].isna(),'chiefcomplaint'] = ''\n",
    "df3['chiefcomplaint'] = df3['chiefcomplaint'].apply(preprocess_text)"
   ]
  },
  {
   "cell_type": "code",
   "execution_count": 127,
   "metadata": {},
   "outputs": [
    {
     "data": {
      "text/plain": [
       "0"
      ]
     },
     "execution_count": 127,
     "metadata": {},
     "output_type": "execute_result"
    }
   ],
   "source": [
    "df3['chiefcomplaint'].isna().sum()"
   ]
  },
  {
   "cell_type": "code",
   "execution_count": 128,
   "metadata": {
    "id": "IltdDsh2nFCj"
   },
   "outputs": [],
   "source": [
    "vectorizer = TextVectorization(output_sequence_length=5)\n",
    "text_ds = tf.data.Dataset.from_tensor_slices(df3['chiefcomplaint']).batch(128)\n",
    "vectorizer.adapt(text_ds)"
   ]
  },
  {
   "cell_type": "code",
   "execution_count": 129,
   "metadata": {},
   "outputs": [
    {
     "data": {
      "text/plain": [
       "['', '[UNK]', 'pain', 'transfer', 'abd']"
      ]
     },
     "execution_count": 129,
     "metadata": {},
     "output_type": "execute_result"
    }
   ],
   "source": [
    "# print top 5 words\n",
    "vectorizer.get_vocabulary()[:5]"
   ]
  },
  {
   "cell_type": "code",
   "execution_count": 130,
   "metadata": {},
   "outputs": [
    {
     "data": {
      "text/plain": [
       "array([ 4,  2, 28, 22,  0], dtype=int64)"
      ]
     },
     "execution_count": 130,
     "metadata": {},
     "output_type": "execute_result"
    }
   ],
   "source": [
    "# example of vectorizing a sentences:\n",
    "output = vectorizer([[\"Abd pain, Wound eval\"]])\n",
    "output.numpy()[0, :6]"
   ]
  },
  {
   "cell_type": "code",
   "execution_count": 131,
   "metadata": {},
   "outputs": [],
   "source": [
    "#build vocabulary dictionary for chief complaint:\n",
    "voc = vectorizer.get_vocabulary()\n",
    "word_index = dict(zip(voc, range(len(voc))))"
   ]
  },
  {
   "cell_type": "code",
   "execution_count": 132,
   "metadata": {},
   "outputs": [],
   "source": [
    "#load the model w2vec for chief complaint:\n",
    "model_w2v = KeyedVectors.load_word2vec_format(\"C:/Users/lai_h/Documents/GitHub/Capstone-Private-/w2v/BioWordVec_PubMed_MIMICIII_d200.vec.bin\", binary=True)"
   ]
  },
  {
   "cell_type": "code",
   "execution_count": 133,
   "metadata": {},
   "outputs": [
    {
     "name": "stdout",
     "output_type": "stream",
     "text": [
      "Converted 3200 words (81 misses)\n"
     ]
    }
   ],
   "source": [
    "num_tokens = len(voc) + 2\n",
    "embedding_dim = 200\n",
    "hits = 0\n",
    "misses = 0\n",
    "\n",
    "# Prepare embedding matrix\n",
    "embedding_matrix = np.zeros((num_tokens, embedding_dim))\n",
    "for word, i in word_index.items():\n",
    "    if word in model_w2v.vocab:\n",
    "        embedding_vector = model_w2v.get_vector(word)\n",
    "        embedding_matrix[i] = embedding_vector\n",
    "        hits += 1\n",
    "    else:\n",
    "        initializer = tf.keras.initializers.GlorotNormal(seed = 123)\n",
    "        values = initializer(shape=(1, 200))\n",
    "        embedding_matrix[i] = values\n",
    "        misses += 1\n",
    "print(\"Converted %d words (%d misses)\" % (hits, misses))"
   ]
  },
  {
   "cell_type": "code",
   "execution_count": 134,
   "metadata": {},
   "outputs": [],
   "source": [
    "# create embedding layers\n",
    "embedding_layer = Embedding(\n",
    "    num_tokens,\n",
    "    embedding_dim,\n",
    "    embeddings_initializer=keras.initializers.Constant(embedding_matrix),\n",
    "    trainable=False,\n",
    ")"
   ]
  },
  {
   "cell_type": "markdown",
   "metadata": {
    "id": "jjGj0rCPqPwV"
   },
   "source": [
    "### 3.2 Embedding for historical icd code group"
   ]
  },
  {
   "cell_type": "code",
   "execution_count": 135,
   "metadata": {
    "id": "aBXpSUpkopQj"
   },
   "outputs": [],
   "source": [
    "his_icd_top198 = pd.read_csv(\"C:/Users/lai_h/Documents/GitHub/Capstone-Private-/dataset/top198historical_icd.csv\")"
   ]
  },
  {
   "cell_type": "code",
   "execution_count": 136,
   "metadata": {
    "id": "AQRI1A4UouPw"
   },
   "outputs": [],
   "source": [
    "vectorizer_his = TextVectorization(output_sequence_length=5)\n",
    "text_ds_his = tf.data.Dataset.from_tensor_slices(his_icd_top198['icd_group']).batch(128)\n",
    "vectorizer_his.adapt(text_ds_his)"
   ]
  },
  {
   "cell_type": "code",
   "execution_count": 137,
   "metadata": {},
   "outputs": [
    {
     "data": {
      "text/plain": [
       "['', '[UNK]', 'z99', 'z95', 'z94']"
      ]
     },
     "execution_count": 137,
     "metadata": {},
     "output_type": "execute_result"
    }
   ],
   "source": [
    "#top 5 icd:\n",
    "vectorizer_his.get_vocabulary()[:5]"
   ]
  },
  {
   "cell_type": "code",
   "execution_count": 138,
   "metadata": {
    "id": "PfMJBbe5o1et"
   },
   "outputs": [],
   "source": [
    "voc_his = vectorizer_his.get_vocabulary()\n",
    "word_index_his = dict(zip(voc_his, range(len(voc_his))))\n",
    "num_tokens_his = len(voc_his) + 2\n",
    "embedding_dim_his = 200\n",
    "\n",
    "\n",
    "# Prepare embedding matrix (create one hot encoding matrix for historical icd code)\n",
    "embedding_matrix_his = np.zeros((num_tokens_his, embedding_dim_his))\n",
    "for word, i in word_index_his.items():\n",
    "    embedding_vector = np.zeros(embedding_dim_his)\n",
    "    embedding_vector[vectorizer_his([word]).numpy()[0][0]] = 1\n",
    "    embedding_matrix_his[i] = embedding_vector"
   ]
  },
  {
   "cell_type": "code",
   "execution_count": 139,
   "metadata": {},
   "outputs": [
    {
     "data": {
      "text/plain": [
       "(202, 200)"
      ]
     },
     "execution_count": 139,
     "metadata": {},
     "output_type": "execute_result"
    }
   ],
   "source": [
    "embedding_matrix_his.shape"
   ]
  },
  {
   "cell_type": "code",
   "execution_count": 140,
   "metadata": {
    "id": "V1Yz8G3ZpOW0"
   },
   "outputs": [],
   "source": [
    "embedding_layer_his = Embedding(\n",
    "    num_tokens_his,\n",
    "    embedding_dim_his,\n",
    "    embeddings_initializer=keras.initializers.Constant(embedding_matrix_his),\n",
    "    trainable=False,\n",
    ")"
   ]
  },
  {
   "cell_type": "markdown",
   "metadata": {
    "id": "2qpk0Hglqoaw"
   },
   "source": [
    "# 4 BiLSTM model using historical and current data (historical icd code & chief complaint)"
   ]
  },
  {
   "cell_type": "code",
   "execution_count": 141,
   "metadata": {},
   "outputs": [],
   "source": [
    "#set random index, create train set and validation set from the original train set\n",
    "\n",
    "#create array of random index\n",
    "np.random.seed(123)\n",
    "ind = np.arange(len(df3))\n",
    "np.random.shuffle(ind)\n",
    "#create testing index  = 0 to 0.20 * random index\n",
    "test_index = ind[:int(len(df3) * 0.20)]\n",
    "#create val index  = 0.20 to 0.30 * random index\n",
    "val_index = ind[int(len(df3) * 0.20):int(len(df3) * 0.30)]\n",
    "#create train index = 0.30 * random index to end\n",
    "train_index = ind[int(len(df3) * 0.30):]"
   ]
  },
  {
   "cell_type": "code",
   "execution_count": 142,
   "metadata": {},
   "outputs": [],
   "source": [
    "chef_vec = vectorizer(np.array([[s] for s in df3['chiefcomplaint']])).numpy()\n",
    "his_vec = vectorizer_his(np.array([[s] for s in df3['pre_icd_code']])).numpy()"
   ]
  },
  {
   "cell_type": "code",
   "execution_count": 143,
   "metadata": {},
   "outputs": [],
   "source": [
    "# vital set\n",
    "train_x_sample = df3.vital_sign[train_index]\n",
    "val_x_sample = df3.vital_sign[val_index]\n",
    "test_x_sample = df3.vital_sign[test_index]"
   ]
  },
  {
   "cell_type": "code",
   "execution_count": 144,
   "metadata": {},
   "outputs": [],
   "source": [
    "# create train set \n",
    "train_chef_vec = chef_vec[train_index]\n",
    "train_his_vec = his_vec[train_index]\n",
    "# select train_x with train_index\n",
    "train_x = df3.loc[train_index, :]\n",
    "train_x.drop(['disposition_binary', 'Unnamed: 0', 'subject_id',\n",
    "              'stay_id', 'rhythm', 'temperature_vitals', 'heartrate_vitals', 'resprate_vitals',\n",
    "              'o2sat_vitals', 'sbp_vitals', 'dbp_vitals', 'difftime', 'pre_icd_code', 'chiefcomplaint', 'vital_sign'\n",
    "              ,'disposition', 'admitted'],axis=1,inplace=True)\n",
    "train_x_vital = np.array([np.array(x) for x in train_x_sample])\n",
    "train_y = df3['disposition_binary'].iloc[train_index]\n",
    "\n",
    "# create val set\n",
    "val_chef_vec = chef_vec[val_index]\n",
    "val_his_vec = his_vec[val_index]\n",
    "val_x = df3.loc[val_index, :]\n",
    "val_x.drop(['disposition_binary', 'Unnamed: 0', 'subject_id',\n",
    "              'stay_id', 'rhythm', 'temperature_vitals', 'heartrate_vitals', 'resprate_vitals',\n",
    "              'o2sat_vitals', 'sbp_vitals', 'dbp_vitals', 'difftime', 'pre_icd_code', 'chiefcomplaint', 'vital_sign'\n",
    "              ,'disposition', 'admitted'],axis=1,inplace=True)\n",
    "val_x_vital = np.array([np.array(x) for x in val_x_sample])\n",
    "val_y = df3['disposition_binary'].iloc[val_index]\n",
    "\n",
    "# create test set\n",
    "test_chef_vec = chef_vec[test_index]\n",
    "test_his_vec = his_vec[test_index]\n",
    "test_x = df3.loc[test_index, :]\n",
    "test_x.drop(['disposition_binary', 'Unnamed: 0', 'subject_id',\n",
    "              'stay_id', 'rhythm', 'temperature_vitals', 'heartrate_vitals', 'resprate_vitals',\n",
    "              'o2sat_vitals', 'sbp_vitals', 'dbp_vitals', 'difftime', 'pre_icd_code', 'chiefcomplaint', 'vital_sign'\n",
    "              ,'disposition', 'admitted'],axis=1,inplace=True)\n",
    "test_x_vital = np.array([np.array(x) for x in test_x_sample])\n",
    "test_y = df3['disposition_binary'].iloc[test_index]\n"
   ]
  },
  {
   "cell_type": "code",
   "execution_count": 145,
   "metadata": {},
   "outputs": [],
   "source": [
    "# save test set to csv for model explainability notebook\n",
    "test_x.to_csv('C:/Users/lai_h/Documents/GitHub/Capstone-Private-/dataset/testset/test_x.csv', index=False)\n",
    "test_y.to_csv('C:/Users/lai_h/Documents/GitHub/Capstone-Private-/dataset/testset/test_y.csv', index=False)\n",
    "# save the array of test_his_vec, test_chef_vec, test_x_vital to csv for model explainability notebook\n",
    "# pd.DataFrame(test_his_vec).to_csv('C:/Users/lai_h/Documents/GitHub/Capstone-Private-/dataset/testset/test_his_vec.csv', index=False, header=False)\n",
    "np.save('C:/Users/lai_h/Documents/GitHub/Capstone-Private-/dataset/testset/test_chef_vec.npy', test_chef_vec)\n",
    "# pd.DataFrame(test_chef_vec).to_csv('C:/Users/lai_h/Documents/GitHub/Capstone-Private-/dataset/testset/test_chef_vec.csv', index=False, header=False)\n",
    "# save test_chef_vec as npy file\n",
    "np.save('C:/Users/lai_h/Documents/GitHub/Capstone-Private-/dataset/testset/test_his_vec.npy', test_his_vec)\n",
    "np.save('C:/Users/lai_h/Documents/GitHub/Capstone-Private-/dataset/testset/test_x_vital.npy', test_x_vital)"
   ]
  },
  {
   "cell_type": "code",
   "execution_count": 146,
   "metadata": {},
   "outputs": [
    {
     "data": {
      "text/plain": [
       "(33835, 3, 6)"
      ]
     },
     "execution_count": 146,
     "metadata": {},
     "output_type": "execute_result"
    }
   ],
   "source": [
    "test_x_vital.shape"
   ]
  },
  {
   "cell_type": "code",
   "execution_count": 147,
   "metadata": {},
   "outputs": [
    {
     "data": {
      "text/plain": [
       "Index(['gender', 'race', 'arrival_transport'], dtype='object')"
      ]
     },
     "execution_count": 147,
     "metadata": {},
     "output_type": "execute_result"
    }
   ],
   "source": [
    "num_attr = train_x.select_dtypes(include=['float64', 'int64']).columns\n",
    "cat_attr = train_x.select_dtypes(include=['O']).columns\n",
    "# remove disposition, chiefcomplaint, vital_sign, pre_icd_code in cat_attr\n",
    "cat_attr"
   ]
  },
  {
   "cell_type": "code",
   "execution_count": 148,
   "metadata": {},
   "outputs": [
    {
     "data": {
      "text/plain": [
       "Index(['nights', 'hours', 'admission_hour', 'admission_day',\n",
       "       'admission_day_of_week', 'temperature_triage', 'heartrate_triage',\n",
       "       'resprate_triage', 'o2sat_triage', 'sbp_triage', 'dbp_triage',\n",
       "       'pain_triage', 'acuity', 'pain_vitals', 'count_vital'],\n",
       "      dtype='object')"
      ]
     },
     "execution_count": 148,
     "metadata": {},
     "output_type": "execute_result"
    }
   ],
   "source": [
    "num_attr"
   ]
  },
  {
   "cell_type": "code",
   "execution_count": 149,
   "metadata": {},
   "outputs": [
    {
     "name": "stdout",
     "output_type": "stream",
     "text": [
      "<class 'pandas.core.frame.DataFrame'>\n",
      "Int64Index: 118426 entries, 75056 to 15725\n",
      "Data columns (total 18 columns):\n",
      " #   Column                 Non-Null Count   Dtype  \n",
      "---  ------                 --------------   -----  \n",
      " 0   gender                 118426 non-null  object \n",
      " 1   race                   118426 non-null  object \n",
      " 2   arrival_transport      118426 non-null  object \n",
      " 3   nights                 118426 non-null  int64  \n",
      " 4   hours                  118426 non-null  float64\n",
      " 5   admission_hour         118426 non-null  int64  \n",
      " 6   admission_day          118426 non-null  int64  \n",
      " 7   admission_day_of_week  118426 non-null  int64  \n",
      " 8   temperature_triage     118426 non-null  float64\n",
      " 9   heartrate_triage       118426 non-null  float64\n",
      " 10  resprate_triage        118426 non-null  float64\n",
      " 11  o2sat_triage           118426 non-null  float64\n",
      " 12  sbp_triage             118426 non-null  float64\n",
      " 13  dbp_triage             118426 non-null  float64\n",
      " 14  pain_triage            118426 non-null  float64\n",
      " 15  acuity                 118426 non-null  float64\n",
      " 16  pain_vitals            118426 non-null  float64\n",
      " 17  count_vital            118426 non-null  int64  \n",
      "dtypes: float64(10), int64(5), object(3)\n",
      "memory usage: 17.2+ MB\n"
     ]
    }
   ],
   "source": [
    "train_x.info()"
   ]
  },
  {
   "cell_type": "code",
   "execution_count": 150,
   "metadata": {},
   "outputs": [],
   "source": [
    "trans_pip = ColumnTransformer([\n",
    "    (\"num\",StandardScaler(), num_attr),\n",
    "    (\"cat\",OneHotEncoder(),cat_attr)\n",
    "],remainder='passthrough')"
   ]
  },
  {
   "cell_type": "code",
   "execution_count": 151,
   "metadata": {},
   "outputs": [
    {
     "data": {
      "text/html": [
       "<div><div id=882cd822-d89c-41d0-9aa6-af32f505b324 style=\"display:none; background-color:#9D6CFF; color:white; width:200px; height:30px; padding-left:5px; border-radius:4px; flex-direction:row; justify-content:space-around; align-items:center;\" onmouseover=\"this.style.backgroundColor='#BA9BF8'\" onmouseout=\"this.style.backgroundColor='#9D6CFF'\" onclick=\"window.commands?.execute('create-mitosheet-from-dataframe-output');\">See Full Dataframe in Mito</div> <script> if (window.commands?.hasCommand('create-mitosheet-from-dataframe-output')) document.getElementById('882cd822-d89c-41d0-9aa6-af32f505b324').style.display = 'flex' </script> <table border=\"1\" class=\"dataframe\">\n",
       "  <thead>\n",
       "    <tr style=\"text-align: right;\">\n",
       "      <th></th>\n",
       "      <th>gender</th>\n",
       "      <th>race</th>\n",
       "      <th>arrival_transport</th>\n",
       "      <th>nights</th>\n",
       "      <th>hours</th>\n",
       "      <th>admission_hour</th>\n",
       "      <th>admission_day</th>\n",
       "      <th>admission_day_of_week</th>\n",
       "      <th>temperature_triage</th>\n",
       "      <th>heartrate_triage</th>\n",
       "      <th>resprate_triage</th>\n",
       "      <th>o2sat_triage</th>\n",
       "      <th>sbp_triage</th>\n",
       "      <th>dbp_triage</th>\n",
       "      <th>pain_triage</th>\n",
       "      <th>acuity</th>\n",
       "      <th>pain_vitals</th>\n",
       "      <th>count_vital</th>\n",
       "    </tr>\n",
       "  </thead>\n",
       "  <tbody>\n",
       "    <tr>\n",
       "      <th>75056</th>\n",
       "      <td>F</td>\n",
       "      <td>BLACK</td>\n",
       "      <td>AMBULANCE</td>\n",
       "      <td>0</td>\n",
       "      <td>2.5</td>\n",
       "      <td>6</td>\n",
       "      <td>5</td>\n",
       "      <td>3</td>\n",
       "      <td>98.3</td>\n",
       "      <td>66.0</td>\n",
       "      <td>18.0</td>\n",
       "      <td>99.0</td>\n",
       "      <td>138.0</td>\n",
       "      <td>76.0</td>\n",
       "      <td>5.0</td>\n",
       "      <td>3.0</td>\n",
       "      <td>0.0</td>\n",
       "      <td>2</td>\n",
       "    </tr>\n",
       "    <tr>\n",
       "      <th>85735</th>\n",
       "      <td>M</td>\n",
       "      <td>WHITE</td>\n",
       "      <td>AMBULANCE</td>\n",
       "      <td>0</td>\n",
       "      <td>6.7</td>\n",
       "      <td>19</td>\n",
       "      <td>22</td>\n",
       "      <td>6</td>\n",
       "      <td>101.1</td>\n",
       "      <td>68.0</td>\n",
       "      <td>16.0</td>\n",
       "      <td>96.0</td>\n",
       "      <td>119.0</td>\n",
       "      <td>70.0</td>\n",
       "      <td>9.0</td>\n",
       "      <td>3.0</td>\n",
       "      <td>0.0</td>\n",
       "      <td>4</td>\n",
       "    </tr>\n",
       "    <tr>\n",
       "      <th>6897</th>\n",
       "      <td>F</td>\n",
       "      <td>WHITE</td>\n",
       "      <td>AMBULANCE</td>\n",
       "      <td>0</td>\n",
       "      <td>5.3</td>\n",
       "      <td>14</td>\n",
       "      <td>27</td>\n",
       "      <td>0</td>\n",
       "      <td>97.9</td>\n",
       "      <td>80.0</td>\n",
       "      <td>16.0</td>\n",
       "      <td>99.0</td>\n",
       "      <td>115.0</td>\n",
       "      <td>60.0</td>\n",
       "      <td>0.0</td>\n",
       "      <td>2.0</td>\n",
       "      <td>0.0</td>\n",
       "      <td>4</td>\n",
       "    </tr>\n",
       "    <tr>\n",
       "      <th>149602</th>\n",
       "      <td>M</td>\n",
       "      <td>WHITE</td>\n",
       "      <td>AMBULANCE</td>\n",
       "      <td>0</td>\n",
       "      <td>7.0</td>\n",
       "      <td>10</td>\n",
       "      <td>11</td>\n",
       "      <td>2</td>\n",
       "      <td>98.0</td>\n",
       "      <td>136.0</td>\n",
       "      <td>22.0</td>\n",
       "      <td>97.0</td>\n",
       "      <td>96.0</td>\n",
       "      <td>60.0</td>\n",
       "      <td>0.0</td>\n",
       "      <td>1.0</td>\n",
       "      <td>0.0</td>\n",
       "      <td>11</td>\n",
       "    </tr>\n",
       "    <tr>\n",
       "      <th>119249</th>\n",
       "      <td>M</td>\n",
       "      <td>WHITE</td>\n",
       "      <td>AMBULANCE</td>\n",
       "      <td>0</td>\n",
       "      <td>7.4</td>\n",
       "      <td>16</td>\n",
       "      <td>24</td>\n",
       "      <td>2</td>\n",
       "      <td>97.5</td>\n",
       "      <td>60.0</td>\n",
       "      <td>16.0</td>\n",
       "      <td>97.0</td>\n",
       "      <td>114.0</td>\n",
       "      <td>65.0</td>\n",
       "      <td>2.0</td>\n",
       "      <td>3.0</td>\n",
       "      <td>10.0</td>\n",
       "      <td>3</td>\n",
       "    </tr>\n",
       "    <tr>\n",
       "      <th>...</th>\n",
       "      <td>...</td>\n",
       "      <td>...</td>\n",
       "      <td>...</td>\n",
       "      <td>...</td>\n",
       "      <td>...</td>\n",
       "      <td>...</td>\n",
       "      <td>...</td>\n",
       "      <td>...</td>\n",
       "      <td>...</td>\n",
       "      <td>...</td>\n",
       "      <td>...</td>\n",
       "      <td>...</td>\n",
       "      <td>...</td>\n",
       "      <td>...</td>\n",
       "      <td>...</td>\n",
       "      <td>...</td>\n",
       "      <td>...</td>\n",
       "      <td>...</td>\n",
       "    </tr>\n",
       "    <tr>\n",
       "      <th>146449</th>\n",
       "      <td>F</td>\n",
       "      <td>LATINO</td>\n",
       "      <td>AMBULANCE</td>\n",
       "      <td>0</td>\n",
       "      <td>8.8</td>\n",
       "      <td>11</td>\n",
       "      <td>8</td>\n",
       "      <td>3</td>\n",
       "      <td>98.7</td>\n",
       "      <td>56.0</td>\n",
       "      <td>20.0</td>\n",
       "      <td>100.0</td>\n",
       "      <td>146.0</td>\n",
       "      <td>80.0</td>\n",
       "      <td>0.0</td>\n",
       "      <td>2.0</td>\n",
       "      <td>0.0</td>\n",
       "      <td>3</td>\n",
       "    </tr>\n",
       "    <tr>\n",
       "      <th>119906</th>\n",
       "      <td>M</td>\n",
       "      <td>WHITE</td>\n",
       "      <td>AMBULANCE</td>\n",
       "      <td>0</td>\n",
       "      <td>7.7</td>\n",
       "      <td>15</td>\n",
       "      <td>17</td>\n",
       "      <td>0</td>\n",
       "      <td>96.9</td>\n",
       "      <td>75.0</td>\n",
       "      <td>14.0</td>\n",
       "      <td>98.0</td>\n",
       "      <td>133.0</td>\n",
       "      <td>72.0</td>\n",
       "      <td>5.0</td>\n",
       "      <td>2.0</td>\n",
       "      <td>2.0</td>\n",
       "      <td>4</td>\n",
       "    </tr>\n",
       "    <tr>\n",
       "      <th>17730</th>\n",
       "      <td>M</td>\n",
       "      <td>WHITE</td>\n",
       "      <td>WALK IN</td>\n",
       "      <td>0</td>\n",
       "      <td>3.5</td>\n",
       "      <td>17</td>\n",
       "      <td>21</td>\n",
       "      <td>2</td>\n",
       "      <td>99.0</td>\n",
       "      <td>94.0</td>\n",
       "      <td>18.0</td>\n",
       "      <td>99.0</td>\n",
       "      <td>135.0</td>\n",
       "      <td>85.0</td>\n",
       "      <td>0.0</td>\n",
       "      <td>3.0</td>\n",
       "      <td>0.0</td>\n",
       "      <td>7</td>\n",
       "    </tr>\n",
       "    <tr>\n",
       "      <th>28030</th>\n",
       "      <td>F</td>\n",
       "      <td>WHITE</td>\n",
       "      <td>AMBULANCE</td>\n",
       "      <td>27</td>\n",
       "      <td>653.5</td>\n",
       "      <td>20</td>\n",
       "      <td>7</td>\n",
       "      <td>4</td>\n",
       "      <td>98.2</td>\n",
       "      <td>101.0</td>\n",
       "      <td>16.0</td>\n",
       "      <td>100.0</td>\n",
       "      <td>122.0</td>\n",
       "      <td>83.0</td>\n",
       "      <td>0.0</td>\n",
       "      <td>2.0</td>\n",
       "      <td>5.0</td>\n",
       "      <td>4</td>\n",
       "    </tr>\n",
       "    <tr>\n",
       "      <th>15725</th>\n",
       "      <td>M</td>\n",
       "      <td>WHITE</td>\n",
       "      <td>AMBULANCE</td>\n",
       "      <td>0</td>\n",
       "      <td>15.0</td>\n",
       "      <td>0</td>\n",
       "      <td>12</td>\n",
       "      <td>2</td>\n",
       "      <td>96.6</td>\n",
       "      <td>114.0</td>\n",
       "      <td>18.0</td>\n",
       "      <td>100.0</td>\n",
       "      <td>118.0</td>\n",
       "      <td>67.0</td>\n",
       "      <td>0.0</td>\n",
       "      <td>2.0</td>\n",
       "      <td>0.0</td>\n",
       "      <td>11</td>\n",
       "    </tr>\n",
       "  </tbody>\n",
       "</table></div>"
      ],
      "text/plain": [
       "       gender    race arrival_transport  nights  hours  admission_hour  \\\n",
       "75056       F   BLACK         AMBULANCE       0    2.5               6   \n",
       "85735       M   WHITE         AMBULANCE       0    6.7              19   \n",
       "6897        F   WHITE         AMBULANCE       0    5.3              14   \n",
       "149602      M   WHITE         AMBULANCE       0    7.0              10   \n",
       "119249      M   WHITE         AMBULANCE       0    7.4              16   \n",
       "...       ...     ...               ...     ...    ...             ...   \n",
       "146449      F  LATINO         AMBULANCE       0    8.8              11   \n",
       "119906      M   WHITE         AMBULANCE       0    7.7              15   \n",
       "17730       M   WHITE           WALK IN       0    3.5              17   \n",
       "28030       F   WHITE         AMBULANCE      27  653.5              20   \n",
       "15725       M   WHITE         AMBULANCE       0   15.0               0   \n",
       "\n",
       "        admission_day  admission_day_of_week  temperature_triage  \\\n",
       "75056               5                      3                98.3   \n",
       "85735              22                      6               101.1   \n",
       "6897               27                      0                97.9   \n",
       "149602             11                      2                98.0   \n",
       "119249             24                      2                97.5   \n",
       "...               ...                    ...                 ...   \n",
       "146449              8                      3                98.7   \n",
       "119906             17                      0                96.9   \n",
       "17730              21                      2                99.0   \n",
       "28030               7                      4                98.2   \n",
       "15725              12                      2                96.6   \n",
       "\n",
       "        heartrate_triage  resprate_triage  o2sat_triage  sbp_triage  \\\n",
       "75056               66.0             18.0          99.0       138.0   \n",
       "85735               68.0             16.0          96.0       119.0   \n",
       "6897                80.0             16.0          99.0       115.0   \n",
       "149602             136.0             22.0          97.0        96.0   \n",
       "119249              60.0             16.0          97.0       114.0   \n",
       "...                  ...              ...           ...         ...   \n",
       "146449              56.0             20.0         100.0       146.0   \n",
       "119906              75.0             14.0          98.0       133.0   \n",
       "17730               94.0             18.0          99.0       135.0   \n",
       "28030              101.0             16.0         100.0       122.0   \n",
       "15725              114.0             18.0         100.0       118.0   \n",
       "\n",
       "        dbp_triage  pain_triage  acuity  pain_vitals  count_vital  \n",
       "75056         76.0          5.0     3.0          0.0            2  \n",
       "85735         70.0          9.0     3.0          0.0            4  \n",
       "6897          60.0          0.0     2.0          0.0            4  \n",
       "149602        60.0          0.0     1.0          0.0           11  \n",
       "119249        65.0          2.0     3.0         10.0            3  \n",
       "...            ...          ...     ...          ...          ...  \n",
       "146449        80.0          0.0     2.0          0.0            3  \n",
       "119906        72.0          5.0     2.0          2.0            4  \n",
       "17730         85.0          0.0     3.0          0.0            7  \n",
       "28030         83.0          0.0     2.0          5.0            4  \n",
       "15725         67.0          0.0     2.0          0.0           11  \n",
       "\n",
       "[118426 rows x 18 columns]"
      ]
     },
     "execution_count": 151,
     "metadata": {},
     "output_type": "execute_result"
    }
   ],
   "source": [
    "train_x"
   ]
  },
  {
   "cell_type": "code",
   "execution_count": 152,
   "metadata": {},
   "outputs": [
    {
     "data": {
      "text/plain": [
       "['num__nights',\n",
       " 'num__hours',\n",
       " 'num__admission_hour',\n",
       " 'num__admission_day',\n",
       " 'num__admission_day_of_week',\n",
       " 'num__temperature_triage',\n",
       " 'num__heartrate_triage',\n",
       " 'num__resprate_triage',\n",
       " 'num__o2sat_triage',\n",
       " 'num__sbp_triage',\n",
       " 'num__dbp_triage',\n",
       " 'num__pain_triage',\n",
       " 'num__acuity',\n",
       " 'num__pain_vitals',\n",
       " 'num__count_vital',\n",
       " 'cat__gender_F',\n",
       " 'cat__gender_M',\n",
       " 'cat__race_ASIAN',\n",
       " 'cat__race_BLACK',\n",
       " 'cat__race_LATINO',\n",
       " 'cat__race_OTHER',\n",
       " 'cat__race_WHITE',\n",
       " 'cat__arrival_transport_AMBULANCE',\n",
       " 'cat__arrival_transport_HELICOPTER',\n",
       " 'cat__arrival_transport_OTHER',\n",
       " 'cat__arrival_transport_UNKNOWN',\n",
       " 'cat__arrival_transport_WALK IN']"
      ]
     },
     "execution_count": 152,
     "metadata": {},
     "output_type": "execute_result"
    }
   ],
   "source": [
    "train_x = trans_pip.fit_transform(train_x)\n",
    "val_x = trans_pip.fit_transform(val_x)\n",
    "test_x = trans_pip.fit_transform(test_x)\n",
    "\n",
    "\n",
    "feature_names = list(trans_pip.get_feature_names_out())\n",
    "feature_names"
   ]
  },
  {
   "cell_type": "code",
   "execution_count": 153,
   "metadata": {},
   "outputs": [
    {
     "data": {
      "text/plain": [
       "27"
      ]
     },
     "execution_count": 153,
     "metadata": {},
     "output_type": "execute_result"
    }
   ],
   "source": [
    "len(feature_names)"
   ]
  },
  {
   "cell_type": "code",
   "execution_count": 154,
   "metadata": {},
   "outputs": [
    {
     "data": {
      "text/plain": [
       "(118426, 27)"
      ]
     },
     "execution_count": 154,
     "metadata": {},
     "output_type": "execute_result"
    }
   ],
   "source": [
    "train_x.shape"
   ]
  },
  {
   "cell_type": "code",
   "execution_count": 155,
   "metadata": {},
   "outputs": [
    {
     "data": {
      "text/plain": [
       "numpy.ndarray"
      ]
     },
     "execution_count": 155,
     "metadata": {},
     "output_type": "execute_result"
    }
   ],
   "source": [
    "type(train_x_vital)"
   ]
  },
  {
   "cell_type": "code",
   "execution_count": 156,
   "metadata": {},
   "outputs": [
    {
     "data": {
      "text/plain": [
       "array([  6,   2, 377, 148,   0], dtype=int64)"
      ]
     },
     "execution_count": 156,
     "metadata": {},
     "output_type": "execute_result"
    }
   ],
   "source": [
    "train_chef_vec[0]"
   ]
  },
  {
   "cell_type": "code",
   "execution_count": 157,
   "metadata": {},
   "outputs": [
    {
     "data": {
      "text/plain": [
       "<tf.Tensor: shape=(118426, 3, 6), dtype=float64, numpy=\n",
       "array([[[ 98.9,  89. ,  16. , 100. , 165. ,  95. ],\n",
       "        [ 98.1,  92. ,  20. ,  97. , 169. ,  88. ],\n",
       "        [ 98.1,  92. ,  20. ,  97. , 169. ,  88. ]],\n",
       "\n",
       "       [[ 98.1, 120. ,  16. ,  98. , 124. ,  88. ],\n",
       "        [ 98.1, 105. ,  18. ,  98. , 126. ,  72. ],\n",
       "        [ 98.1, 103. ,  16. ,  98. , 124. ,  88. ]],\n",
       "\n",
       "       [[ 98.6,  75. ,  18. ,  96. , 130. ,  75. ],\n",
       "        [ 99.6,  96. ,  16. ,  98. , 110. ,  69. ],\n",
       "        [ 99.6,  94. ,  16. ,  97. , 115. ,  72. ]],\n",
       "\n",
       "       ...,\n",
       "\n",
       "       [[ 98.1,  94. ,  29. ,  95. , 134. ,  65. ],\n",
       "        [ 98.1,  92. ,  29. ,  95. , 134. ,  70. ],\n",
       "        [102.8,  96. ,  26. ,  94. , 130. ,  67. ]],\n",
       "\n",
       "       [[ 98.1,  80. ,  16. , 100. , 141. ,  87. ],\n",
       "        [ 98.1,  79. ,  18. ,  98. , 126. ,  72. ],\n",
       "        [ 98. ,  80. ,  16. , 100. , 141. ,  87. ]],\n",
       "\n",
       "       [[ 98.1,  79. ,  18. ,  98. ,  65. ,  52. ],\n",
       "        [ 98.1, 102. ,  18. ,  98. , 109. ,  72. ],\n",
       "        [ 98.1, 102. ,  18. ,  98. ,  97. ,  59. ]]])>"
      ]
     },
     "execution_count": 157,
     "metadata": {},
     "output_type": "execute_result"
    }
   ],
   "source": [
    "tf.convert_to_tensor(train_x_vital)"
   ]
  },
  {
   "cell_type": "code",
   "execution_count": 158,
   "metadata": {
    "id": "0FDeXKPiszhA"
   },
   "outputs": [],
   "source": [
    "\n",
    "#Optimized parameters for LSTM: {'units': 114, 'activation': 'tanh', 'optimizer': 'adam', 'rate': 0}\n",
    "#Optimized parameters for MLP: {'units': 100/50/1, 'glorot_uniform', 0, 'relu'}\n",
    "\n",
    "col1 = keras.Input(shape = (5,))\n",
    "embedded_sequences1 = embedding_layer_his(col1)\n",
    "col2 = keras.Input(shape = (5,))\n",
    "embedded_sequences2 = embedding_layer(col2)\n",
    "embedded_sequences = keras.layers.Concatenate(axis=1)([embedded_sequences1, embedded_sequences2])\n",
    "inp3 = keras.Input(shape = (27,))\n",
    "inp4 = keras.Input(shape = (3,))\n",
    "\n",
    "\n",
    "\n",
    "def create_mlp(dim):\n",
    "  inp3 = keras.Input(shape = (dim,))\n",
    "  x = keras.layers.Dense(100, kernel_initializer = 'he_normal', input_dim=dim, activation=\"relu\")(inp3)\n",
    "  x = keras.layers.Dense(64, kernel_initializer = 'he_normal', activation=\"relu\")(x)\n",
    "  #x = keras.layers.Dense(6,activation = 'relu')(x)\n",
    "  #x = keras.layers.Dense(32, kernel_initializer = 'he_normal', activation=\"relu\")(x)\n",
    "  #x = keras.layers.Dense(1,  activation=\"sigmoid\")(x)\n",
    "  #preds = keras.layers.Dense(1,activation = 'sigmoid')(x)\n",
    "  model = keras.models.Model(inputs = inp3, outputs = x)\n",
    "  return model\n",
    "\n",
    "def create_GRU():\n",
    "  col1 = keras.Input(shape = (5,))\n",
    "  col2 = keras.Input(shape = (5,))\n",
    "  embedded_sequences1 = embedding_layer_his(col1)\n",
    "  embedded_sequences2 = embedding_layer(col2)\n",
    "  embedded_sequences = keras.layers.Concatenate(axis=1)([embedded_sequences1, embedded_sequences2])\n",
    "  x = keras.layers.Bidirectional(keras.layers.GRU(114, return_sequences=True))(embedded_sequences)\n",
    "  x = keras.layers.Bidirectional(keras.layers.GRU(114))(x)\n",
    "  x = keras.layers.Dense(64,activation = 'relu')(x)\n",
    "  #x = keras.layers.Dense(6,activation = 'relu')(x)\n",
    "  #preds = keras.layers.Dense(1,activation = 'sigmoid')(x)\n",
    "  model = keras.models.Model(inputs = [col1,col2], outputs = x)\n",
    "  return model\n",
    "  \n",
    "def create_LSTM():\n",
    "  inp4 = keras.Input(shape = (None,6))\n",
    "  x = keras.layers.Bidirectional(keras.layers.LSTM(64, return_sequences=True))(inp4)\n",
    "  x = keras.layers.Bidirectional(keras.layers.LSTM(64))(x)\n",
    "  x = keras.layers.Dense(64,activation = 'relu')(x)\n",
    "  #preds = keras.layers.Dense(1,activation = 'sigmoid')(x)\n",
    "  model = keras.models.Model(inputs = inp4, outputs = x)\n",
    "  return model\n",
    "\n",
    "tf.random.set_seed(42)\n",
    "\n",
    "mlp = create_mlp(27)\n",
    "gru = create_GRU()\n",
    "LSTM = create_LSTM()\n"
   ]
  },
  {
   "cell_type": "code",
   "execution_count": 159,
   "metadata": {
    "id": "kfspuTHKUCXY"
   },
   "outputs": [],
   "source": [
    "combinedInput = keras.layers.concatenate([mlp.output, gru.output, LSTM.output])\n",
    "x = keras.layers.Dense(64)(combinedInput)\n",
    "x = keras.layers.Dense(32)(x)\n",
    "x = keras.layers.Dense(1, activation=\"sigmoid\")(x)\n",
    "model = keras.models.Model(inputs=[mlp.input, gru.input,LSTM.input], outputs=x)\n"
   ]
  },
  {
   "cell_type": "code",
   "execution_count": 160,
   "metadata": {
    "id": "HsdEH5_zWsE5"
   },
   "outputs": [],
   "source": [
    "model.compile(loss = 'binary_crossentropy', optimizer = 'Adam', metrics = \"accuracy\")\n",
    "early = EarlyStopping(monitor='val_loss', patience=10)"
   ]
  },
  {
   "cell_type": "code",
   "execution_count": 161,
   "metadata": {
    "colab": {
     "base_uri": "https://localhost:8080/"
    },
    "id": "LVDdseja2ZFb",
    "outputId": "6ad1b9f5-5d3e-49d1-cb39-f3d3e7cb3f7f"
   },
   "outputs": [
    {
     "data": {
      "text/plain": [
       "{0: 0.9987587185246483, 1: 0.0012412814753516965}"
      ]
     },
     "execution_count": 161,
     "metadata": {},
     "output_type": "execute_result"
    }
   ],
   "source": [
    "weights = {0:1-(sum(train_y)/len(train_y)),1:sum(train_y)/len(train_y)}\n",
    "weights"
   ]
  },
  {
   "cell_type": "code",
   "execution_count": 162,
   "metadata": {},
   "outputs": [
    {
     "data": {
      "text/plain": [
       "<tf.Tensor: shape=(27, 200), dtype=float32, numpy=\n",
       "array([[ 0.08882309, -0.10584339,  0.08051056, ...,  0.01133232,\n",
       "         0.05762826, -0.04171059],\n",
       "       [ 0.08882309, -0.10584339,  0.08051056, ...,  0.01133232,\n",
       "         0.05762826, -0.04171059],\n",
       "       [ 0.        ,  0.        ,  0.        , ...,  0.        ,\n",
       "         0.        ,  0.        ],\n",
       "       ...,\n",
       "       [ 0.08882309, -0.10584339,  0.08051056, ...,  0.01133232,\n",
       "         0.05762826, -0.04171059],\n",
       "       [ 0.08882309, -0.10584339,  0.08051056, ...,  0.01133232,\n",
       "         0.05762826, -0.04171059],\n",
       "       [ 0.08882309, -0.10584339,  0.08051056, ...,  0.01133232,\n",
       "         0.05762826, -0.04171059]], dtype=float32)>"
      ]
     },
     "execution_count": 162,
     "metadata": {},
     "output_type": "execute_result"
    }
   ],
   "source": [
    "embedding_layer(train_x[0])"
   ]
  },
  {
   "cell_type": "code",
   "execution_count": 163,
   "metadata": {},
   "outputs": [
    {
     "data": {
      "text/plain": [
       "<tf.Tensor: shape=(118426, 27), dtype=float64, numpy=\n",
       "array([[-0.0047341 , -0.01116185, -1.31688606, ...,  0.        ,\n",
       "         0.        ,  0.        ],\n",
       "       [-0.0047341 , -0.00537583,  0.92904351, ...,  0.        ,\n",
       "         0.        ,  0.        ],\n",
       "       [-0.0047341 , -0.0073045 ,  0.06522444, ...,  0.        ,\n",
       "         0.        ,  0.        ],\n",
       "       ...,\n",
       "       [-0.0047341 , -0.00978423,  0.58351588, ...,  0.        ,\n",
       "         0.        ,  1.        ],\n",
       "       [ 0.88800472,  0.88567205,  1.10180732, ...,  0.        ,\n",
       "         0.        ,  0.        ],\n",
       "       [-0.0047341 ,  0.00605846, -2.35346894, ...,  0.        ,\n",
       "         0.        ,  0.        ]])>"
      ]
     },
     "execution_count": 163,
     "metadata": {},
     "output_type": "execute_result"
    }
   ],
   "source": [
    "tf.convert_to_tensor(train_x)"
   ]
  },
  {
   "cell_type": "code",
   "execution_count": 164,
   "metadata": {},
   "outputs": [
    {
     "name": "stdout",
     "output_type": "stream",
     "text": [
      "Epoch 1/100\n",
      "463/463 [==============================] - 23s 24ms/step - loss: 8.7663e-04 - accuracy: 0.9987 - val_loss: 0.0246 - val_accuracy: 0.9985\n",
      "Epoch 2/100\n",
      "463/463 [==============================] - 9s 20ms/step - loss: 2.3726e-05 - accuracy: 0.9988 - val_loss: 0.0235 - val_accuracy: 0.9985\n",
      "Epoch 3/100\n",
      "463/463 [==============================] - 12s 26ms/step - loss: 2.3279e-05 - accuracy: 0.9988 - val_loss: 0.0240 - val_accuracy: 0.9985\n",
      "Epoch 4/100\n",
      "463/463 [==============================] - 12s 26ms/step - loss: 2.2452e-05 - accuracy: 0.9988 - val_loss: 0.0235 - val_accuracy: 0.9985\n",
      "Epoch 5/100\n",
      "463/463 [==============================] - 13s 28ms/step - loss: 2.1229e-05 - accuracy: 0.9988 - val_loss: 0.0221 - val_accuracy: 0.9985\n",
      "Epoch 6/100\n",
      "463/463 [==============================] - 12s 25ms/step - loss: 2.0734e-05 - accuracy: 0.9988 - val_loss: 0.0217 - val_accuracy: 0.9985\n",
      "Epoch 7/100\n",
      "463/463 [==============================] - 11s 25ms/step - loss: 2.0377e-05 - accuracy: 0.9988 - val_loss: 0.0192 - val_accuracy: 0.9985\n",
      "Epoch 8/100\n",
      "463/463 [==============================] - 12s 26ms/step - loss: 2.0117e-05 - accuracy: 0.9988 - val_loss: 0.0205 - val_accuracy: 0.9985\n",
      "Epoch 9/100\n",
      "463/463 [==============================] - 13s 28ms/step - loss: 1.9788e-05 - accuracy: 0.9988 - val_loss: 0.0212 - val_accuracy: 0.9985\n",
      "Epoch 10/100\n",
      "463/463 [==============================] - 9s 19ms/step - loss: 1.9396e-05 - accuracy: 0.9988 - val_loss: 0.0199 - val_accuracy: 0.9985\n",
      "Epoch 11/100\n",
      "463/463 [==============================] - 9s 20ms/step - loss: 1.9515e-05 - accuracy: 0.9988 - val_loss: 0.0197 - val_accuracy: 0.9985\n",
      "Epoch 12/100\n",
      "463/463 [==============================] - 9s 20ms/step - loss: 1.9264e-05 - accuracy: 0.9988 - val_loss: 0.0199 - val_accuracy: 0.9985\n",
      "Epoch 13/100\n",
      "463/463 [==============================] - 9s 19ms/step - loss: 1.8969e-05 - accuracy: 0.9988 - val_loss: 0.0212 - val_accuracy: 0.9985\n",
      "Epoch 14/100\n",
      "463/463 [==============================] - 9s 19ms/step - loss: 1.8748e-05 - accuracy: 0.9988 - val_loss: 0.0206 - val_accuracy: 0.9985\n",
      "Epoch 15/100\n",
      "463/463 [==============================] - 9s 19ms/step - loss: 1.8562e-05 - accuracy: 0.9988 - val_loss: 0.0188 - val_accuracy: 0.9985\n",
      "Epoch 16/100\n",
      "463/463 [==============================] - 9s 19ms/step - loss: 1.8626e-05 - accuracy: 0.9988 - val_loss: 0.0202 - val_accuracy: 0.9985\n",
      "Epoch 17/100\n",
      "463/463 [==============================] - 9s 19ms/step - loss: 1.8388e-05 - accuracy: 0.9988 - val_loss: 0.0208 - val_accuracy: 0.9985\n",
      "Epoch 18/100\n",
      "463/463 [==============================] - 9s 20ms/step - loss: 1.8034e-05 - accuracy: 0.9988 - val_loss: 0.0213 - val_accuracy: 0.9985\n",
      "Epoch 19/100\n",
      "463/463 [==============================] - 9s 19ms/step - loss: 1.8047e-05 - accuracy: 0.9988 - val_loss: 0.0190 - val_accuracy: 0.9985\n",
      "Epoch 20/100\n",
      "463/463 [==============================] - 10s 21ms/step - loss: 1.7612e-05 - accuracy: 0.9988 - val_loss: 0.0185 - val_accuracy: 0.9985\n",
      "Epoch 21/100\n",
      "463/463 [==============================] - 9s 20ms/step - loss: 1.7606e-05 - accuracy: 0.9988 - val_loss: 0.0222 - val_accuracy: 0.9985\n",
      "Epoch 22/100\n",
      "463/463 [==============================] - 9s 20ms/step - loss: 1.7134e-05 - accuracy: 0.9988 - val_loss: 0.0193 - val_accuracy: 0.9985\n",
      "Epoch 23/100\n",
      "463/463 [==============================] - 9s 19ms/step - loss: 1.6984e-05 - accuracy: 0.9988 - val_loss: 0.0190 - val_accuracy: 0.9985\n",
      "Epoch 24/100\n",
      "463/463 [==============================] - 9s 19ms/step - loss: 1.7393e-05 - accuracy: 0.9988 - val_loss: 0.0191 - val_accuracy: 0.9985\n",
      "Epoch 25/100\n",
      "463/463 [==============================] - 9s 20ms/step - loss: 1.6088e-05 - accuracy: 0.9988 - val_loss: 0.0206 - val_accuracy: 0.9985\n",
      "Epoch 26/100\n",
      "463/463 [==============================] - 10s 21ms/step - loss: 1.6032e-05 - accuracy: 0.9988 - val_loss: 0.0181 - val_accuracy: 0.9985\n",
      "Epoch 27/100\n",
      "463/463 [==============================] - 10s 21ms/step - loss: 1.7197e-05 - accuracy: 0.9988 - val_loss: 0.0197 - val_accuracy: 0.9985\n",
      "Epoch 28/100\n",
      "463/463 [==============================] - 8s 18ms/step - loss: 1.5689e-05 - accuracy: 0.9988 - val_loss: 0.0316 - val_accuracy: 0.9985\n",
      "Epoch 29/100\n",
      "463/463 [==============================] - 8s 18ms/step - loss: 1.5632e-05 - accuracy: 0.9988 - val_loss: 0.0215 - val_accuracy: 0.9985\n",
      "Epoch 30/100\n",
      "463/463 [==============================] - 11s 23ms/step - loss: 1.6149e-05 - accuracy: 0.9988 - val_loss: 0.0201 - val_accuracy: 0.9985\n",
      "Epoch 31/100\n",
      "463/463 [==============================] - 12s 25ms/step - loss: 1.5066e-05 - accuracy: 0.9988 - val_loss: 0.0217 - val_accuracy: 0.9986\n",
      "Epoch 32/100\n",
      "463/463 [==============================] - 11s 25ms/step - loss: 1.4669e-05 - accuracy: 0.9988 - val_loss: 0.0242 - val_accuracy: 0.9985\n",
      "Epoch 33/100\n",
      "463/463 [==============================] - 11s 24ms/step - loss: 1.5948e-05 - accuracy: 0.9988 - val_loss: 0.0255 - val_accuracy: 0.9985\n",
      "Epoch 34/100\n",
      "463/463 [==============================] - 11s 24ms/step - loss: 1.4349e-05 - accuracy: 0.9988 - val_loss: 0.0234 - val_accuracy: 0.9985\n",
      "Epoch 35/100\n",
      "463/463 [==============================] - 11s 24ms/step - loss: 1.5215e-05 - accuracy: 0.9988 - val_loss: 0.0274 - val_accuracy: 0.9985\n",
      "Epoch 36/100\n",
      "463/463 [==============================] - 11s 24ms/step - loss: 1.5037e-05 - accuracy: 0.9988 - val_loss: 0.0256 - val_accuracy: 0.9985\n"
     ]
    },
    {
     "data": {
      "text/plain": [
       "<keras.callbacks.History at 0x226de2f30a0>"
      ]
     },
     "execution_count": 164,
     "metadata": {},
     "output_type": "execute_result"
    }
   ],
   "source": [
    "weights = {0:1-(sum(train_y)/len(train_y)),1:sum(train_y)/len(train_y)}\n",
    "model.fit(x=[train_x ,[train_his_vec,train_chef_vec], train_x_vital], y = train_y, validation_data=([val_x,[val_his_vec,val_chef_vec], val_x_vital], val_y), batch_size = 256, epochs=100, callbacks=[early],class_weight = weights)"
   ]
  },
  {
   "cell_type": "code",
   "execution_count": 165,
   "metadata": {},
   "outputs": [
    {
     "name": "stdout",
     "output_type": "stream",
     "text": [
      "Model: \"model_3\"\n",
      "__________________________________________________________________________________________________\n",
      " Layer (type)                   Output Shape         Param #     Connected to                     \n",
      "==================================================================================================\n",
      " input_6 (InputLayer)           [(None, 5)]          0           []                               \n",
      "                                                                                                  \n",
      " input_7 (InputLayer)           [(None, 5)]          0           []                               \n",
      "                                                                                                  \n",
      " embedding_3 (Embedding)        (None, 5, 200)       40400       ['input_6[0][0]']                \n",
      "                                                                                                  \n",
      " embedding_2 (Embedding)        (None, 5, 200)       656600      ['input_7[0][0]']                \n",
      "                                                                                                  \n",
      " concatenate_1 (Concatenate)    (None, 10, 200)      0           ['embedding_3[1][0]',            \n",
      "                                                                  'embedding_2[1][0]']            \n",
      "                                                                                                  \n",
      " input_8 (InputLayer)           [(None, None, 6)]    0           []                               \n",
      "                                                                                                  \n",
      " input_5 (InputLayer)           [(None, 27)]         0           []                               \n",
      "                                                                                                  \n",
      " bidirectional (Bidirectional)  (None, 10, 228)      216144      ['concatenate_1[0][0]']          \n",
      "                                                                                                  \n",
      " bidirectional_2 (Bidirectional  (None, None, 128)   36352       ['input_8[0][0]']                \n",
      " )                                                                                                \n",
      "                                                                                                  \n",
      " dense (Dense)                  (None, 100)          2800        ['input_5[0][0]']                \n",
      "                                                                                                  \n",
      " bidirectional_1 (Bidirectional  (None, 228)         235296      ['bidirectional[0][0]']          \n",
      " )                                                                                                \n",
      "                                                                                                  \n",
      " bidirectional_3 (Bidirectional  (None, 128)         98816       ['bidirectional_2[0][0]']        \n",
      " )                                                                                                \n",
      "                                                                                                  \n",
      " dense_1 (Dense)                (None, 64)           6464        ['dense[0][0]']                  \n",
      "                                                                                                  \n",
      " dense_2 (Dense)                (None, 64)           14656       ['bidirectional_1[0][0]']        \n",
      "                                                                                                  \n",
      " dense_3 (Dense)                (None, 64)           8256        ['bidirectional_3[0][0]']        \n",
      "                                                                                                  \n",
      " concatenate_2 (Concatenate)    (None, 192)          0           ['dense_1[0][0]',                \n",
      "                                                                  'dense_2[0][0]',                \n",
      "                                                                  'dense_3[0][0]']                \n",
      "                                                                                                  \n",
      " dense_4 (Dense)                (None, 64)           12352       ['concatenate_2[0][0]']          \n",
      "                                                                                                  \n",
      " dense_5 (Dense)                (None, 32)           2080        ['dense_4[0][0]']                \n",
      "                                                                                                  \n",
      " dense_6 (Dense)                (None, 1)            33          ['dense_5[0][0]']                \n",
      "                                                                                                  \n",
      "==================================================================================================\n",
      "Total params: 1,330,249\n",
      "Trainable params: 633,249\n",
      "Non-trainable params: 697,000\n",
      "__________________________________________________________________________________________________\n"
     ]
    }
   ],
   "source": [
    "model.summary()"
   ]
  },
  {
   "cell_type": "code",
   "execution_count": 166,
   "metadata": {},
   "outputs": [],
   "source": [
    "# save the trained model\n",
    "model.save('model/mortality_NN.h5')"
   ]
  },
  {
   "cell_type": "code",
   "execution_count": 167,
   "metadata": {},
   "outputs": [
    {
     "data": {
      "image/png": "[encoded data removed]",
      "text/plain": [
       "<IPython.core.display.Image object>"
      ]
     },
     "execution_count": 167,
     "metadata": {},
     "output_type": "execute_result"
    },
    {
     "data": {
      "text/plain": [
       "<Figure size 2000x2000 with 0 Axes>"
      ]
     },
     "metadata": {},
     "output_type": "display_data"
    }
   ],
   "source": [
    "from keras.utils.vis_utils import plot_model\n",
    "# set size of the figure\n",
    "plt.figure(figsize=(20,20))\n",
    "plot_model(model, show_shapes=True, show_layer_names=True, dpi=96)"
   ]
  },
  {
   "cell_type": "code",
   "execution_count": 168,
   "metadata": {},
   "outputs": [],
   "source": [
    "# load the model\n",
    "load_model = keras.models.load_model('model/mortality_NN.h5')"
   ]
  },
  {
   "cell_type": "code",
   "execution_count": 169,
   "metadata": {},
   "outputs": [
    {
     "name": "stdout",
     "output_type": "stream",
     "text": [
      "1058/1058 [==============================] - 12s 9ms/step\n"
     ]
    }
   ],
   "source": [
    "y_test_pred = load_model.predict(x=[test_x,test_his_vec,test_chef_vec, test_x_vital])"
   ]
  },
  {
   "cell_type": "code",
   "execution_count": 174,
   "metadata": {},
   "outputs": [
    {
     "data": {
      "text/plain": [
       "{0: 0.9987587185246483, 1: 0.0012412814753516965}"
      ]
     },
     "execution_count": 174,
     "metadata": {},
     "output_type": "execute_result"
    }
   ],
   "source": [
    "weights = {0:1-(sum(train_y)/len(train_y)),1:sum(train_y)/len(train_y)}\n",
    "weights"
   ]
  },
  {
   "cell_type": "code",
   "execution_count": 175,
   "metadata": {},
   "outputs": [],
   "source": [
    "y_pred_test_class = np.where(y_test_pred> weights[1], 1, 0)"
   ]
  },
  {
   "cell_type": "code",
   "execution_count": 176,
   "metadata": {},
   "outputs": [
    {
     "name": "stdout",
     "output_type": "stream",
     "text": [
      "              precision    recall  f1-score   support\n",
      "\n",
      "           0       1.00      1.00      1.00     33798\n",
      "           1       0.67      0.11      0.19        37\n",
      "\n",
      "    accuracy                           1.00     33835\n",
      "   macro avg       0.83      0.55      0.59     33835\n",
      "weighted avg       1.00      1.00      1.00     33835\n",
      "\n",
      "balanced accuracy:  0.5540244665044949\n"
     ]
    }
   ],
   "source": [
    "print(classification_report(test_y, y_pred_test_class.round()))\n",
    "# balanced accuracy\n",
    "from sklearn.metrics import balanced_accuracy_score\n",
    "print('balanced accuracy: ', balanced_accuracy_score(test_y, y_pred_test_class.round()))"
   ]
  },
  {
   "cell_type": "code",
   "execution_count": 177,
   "metadata": {},
   "outputs": [
    {
     "data": {
      "image/png": "[encoded data removed]",
      "text/plain": [
       "<Figure size 800x600 with 2 Axes>"
      ]
     },
     "metadata": {},
     "output_type": "display_data"
    }
   ],
   "source": [
    "# plot the confusion matrix\n",
    "cm = confusion_matrix(test_y, y_pred_test_class.round())\n",
    "\n",
    "# set figure size\n",
    "plt.figure(figsize=(8, 6))\n",
    "sns.heatmap(cm, annot=True, fmt='d', cmap='Blues')\n",
    "plt.title('Confusion Matrix')\n",
    "plt.xlabel('Predicted')\n",
    "plt.ylabel('Actual')\n",
    "plt.show()"
   ]
  }
 ],
 "metadata": {
  "kernelspec": {
   "display_name": "Python 3.8.13 ('base')",
   "language": "python",
   "name": "python3"
  },
  "language_info": {
   "codemirror_mode": {
    "name": "ipython",
    "version": 3
   },
   "file_extension": ".py",
   "mimetype": "text/x-python",
   "name": "python",
   "nbconvert_exporter": "python",
   "pygments_lexer": "ipython3",
   "version": "3.8.13"
  },
  "orig_nbformat": 4,
  "vscode": {
   "interpreter": {
    "hash": "49cb93f377a7abe7414b7b0f21fb3017538004a126cf690fb524202736b7fb92"
   }
  }
 },
 "nbformat": 4,
 "nbformat_minor": 2
}
