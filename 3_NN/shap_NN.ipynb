{
 "cells": [
  {
   "cell_type": "code",
   "execution_count": 115,
   "metadata": {},
   "outputs": [],
   "source": [
    "import numpy as np\n",
    "import pandas as pd\n",
    "from sklearn.compose import ColumnTransformer\n",
    "import re\n",
    "from tensorflow import keras\n",
    "#from tensorflow.keras.layers import TextVectorization\n",
    "from tensorflow.keras.layers.experimental.preprocessing import TextVectorization\n",
    "from tensorflow.keras.layers import Embedding\n",
    "from tensorflow.keras import layers\n",
    "import seaborn as sns\n",
    "from matplotlib import pyplot as plt\n",
    "from tensorflow.keras.callbacks import EarlyStopping\n",
    "import  tensorflow as tf\n",
    "from sklearn.preprocessing import OneHotEncoder, StandardScaler, LabelEncoder\n",
    "#from gensim.models import KeyedVectors\n",
    "from sklearn.model_selection import cross_val_score\n",
    "from sklearn.impute import SimpleImputer\n",
    "tf.compat.v1.disable_v2_behavior()"
   ]
  },
  {
   "cell_type": "code",
   "execution_count": 116,
   "metadata": {},
   "outputs": [
    {
     "data": {
      "text/plain": [
       "'2.4.0'"
      ]
     },
     "execution_count": 116,
     "metadata": {},
     "output_type": "execute_result"
    }
   ],
   "source": [
    "tf.__version__"
   ]
  },
  {
   "cell_type": "code",
   "execution_count": 117,
   "metadata": {},
   "outputs": [
    {
     "data": {
      "text/plain": [
       "'2.4.0'"
      ]
     },
     "execution_count": 117,
     "metadata": {},
     "output_type": "execute_result"
    }
   ],
   "source": [
    "keras.__version__"
   ]
  },
  {
   "cell_type": "code",
   "execution_count": 118,
   "metadata": {},
   "outputs": [],
   "source": [
    "# Import test set\n",
    "test_x_df = pd.read_csv('C:/Users/lai_h/Documents/GitHub/Capstone-Private-/dataset/testset/test_x.csv' )\n",
    "test_x = test_x_df.to_numpy()\n",
    "test_y = pd.read_csv('C:/Users/lai_h/Documents/GitHub/Capstone-Private-/dataset/testset/test_y.csv').to_numpy()\n",
    "# test_his_vec = pd.read_csv('C:/Users/lai_h/Documents/GitHub/Capstone-Private-/dataset/testset/test_his_vec.csv').to_numpy()\n",
    "test_his_vec = np.load('C:/Users/lai_h/Documents/GitHub/Capstone-Private-/dataset/testset/test_his_vec.npy')\n",
    "# test_chef_vec = pd.read_csv('C:/Users/lai_h/Documents/GitHub/Capstone-Private-/dataset/testset/test_chef_vec.csv').to_numpy()\n",
    "test_chef_vec = np.load('C:/Users/lai_h/Documents/GitHub/Capstone-Private-/dataset/testset/test_chef_vec.npy')\n",
    "# read test_x_vital.npy\n",
    "test_x_vital = np.load('C:/Users/lai_h/Documents/GitHub/Capstone-Private-/dataset/testset/test_x_vital.npy')"
   ]
  },
  {
   "cell_type": "code",
   "execution_count": 119,
   "metadata": {},
   "outputs": [
    {
     "name": "stdout",
     "output_type": "stream",
     "text": [
      "(33835, 18)\n",
      "(33835, 1)\n",
      "(33835, 5)\n",
      "(33835, 5)\n",
      "(33835, 3, 6)\n"
     ]
    }
   ],
   "source": [
    "# print the shape of the test set\n",
    "print(test_x.shape)\n",
    "print(test_y.shape)\n",
    "print(test_his_vec.shape)\n",
    "print(test_chef_vec.shape)\n",
    "print(test_x_vital.shape)"
   ]
  },
  {
   "cell_type": "code",
   "execution_count": 120,
   "metadata": {},
   "outputs": [
    {
     "data": {
      "text/html": [
       "<div>\n",
       "<style scoped>\n",
       "    .dataframe tbody tr th:only-of-type {\n",
       "        vertical-align: middle;\n",
       "    }\n",
       "\n",
       "    .dataframe tbody tr th {\n",
       "        vertical-align: top;\n",
       "    }\n",
       "\n",
       "    .dataframe thead th {\n",
       "        text-align: right;\n",
       "    }\n",
       "</style>\n",
       "<table border=\"1\" class=\"dataframe\">\n",
       "  <thead>\n",
       "    <tr style=\"text-align: right;\">\n",
       "      <th></th>\n",
       "      <th>gender</th>\n",
       "      <th>race</th>\n",
       "      <th>arrival_transport</th>\n",
       "      <th>nights</th>\n",
       "      <th>hours</th>\n",
       "      <th>admission_hour</th>\n",
       "      <th>admission_day</th>\n",
       "      <th>admission_day_of_week</th>\n",
       "      <th>temperature_triage</th>\n",
       "      <th>heartrate_triage</th>\n",
       "      <th>resprate_triage</th>\n",
       "      <th>o2sat_triage</th>\n",
       "      <th>sbp_triage</th>\n",
       "      <th>dbp_triage</th>\n",
       "      <th>pain_triage</th>\n",
       "      <th>acuity</th>\n",
       "      <th>pain_vitals</th>\n",
       "      <th>count_vital</th>\n",
       "    </tr>\n",
       "  </thead>\n",
       "  <tbody>\n",
       "    <tr>\n",
       "      <th>0</th>\n",
       "      <td>F</td>\n",
       "      <td>BLACK</td>\n",
       "      <td>AMBULANCE</td>\n",
       "      <td>0</td>\n",
       "      <td>1.6</td>\n",
       "      <td>11</td>\n",
       "      <td>16</td>\n",
       "      <td>6</td>\n",
       "      <td>98.0</td>\n",
       "      <td>128.0</td>\n",
       "      <td>16.0</td>\n",
       "      <td>96.0</td>\n",
       "      <td>149.0</td>\n",
       "      <td>100.0</td>\n",
       "      <td>0.0</td>\n",
       "      <td>2.0</td>\n",
       "      <td>0.0</td>\n",
       "      <td>11</td>\n",
       "    </tr>\n",
       "    <tr>\n",
       "      <th>1</th>\n",
       "      <td>F</td>\n",
       "      <td>WHITE</td>\n",
       "      <td>WALK IN</td>\n",
       "      <td>0</td>\n",
       "      <td>6.3</td>\n",
       "      <td>15</td>\n",
       "      <td>3</td>\n",
       "      <td>0</td>\n",
       "      <td>97.7</td>\n",
       "      <td>109.0</td>\n",
       "      <td>16.0</td>\n",
       "      <td>96.0</td>\n",
       "      <td>108.0</td>\n",
       "      <td>70.0</td>\n",
       "      <td>0.0</td>\n",
       "      <td>2.0</td>\n",
       "      <td>0.0</td>\n",
       "      <td>4</td>\n",
       "    </tr>\n",
       "    <tr>\n",
       "      <th>2</th>\n",
       "      <td>F</td>\n",
       "      <td>WHITE</td>\n",
       "      <td>AMBULANCE</td>\n",
       "      <td>0</td>\n",
       "      <td>4.1</td>\n",
       "      <td>9</td>\n",
       "      <td>28</td>\n",
       "      <td>6</td>\n",
       "      <td>97.9</td>\n",
       "      <td>90.0</td>\n",
       "      <td>16.0</td>\n",
       "      <td>100.0</td>\n",
       "      <td>133.0</td>\n",
       "      <td>86.0</td>\n",
       "      <td>0.0</td>\n",
       "      <td>3.0</td>\n",
       "      <td>0.0</td>\n",
       "      <td>1</td>\n",
       "    </tr>\n",
       "    <tr>\n",
       "      <th>3</th>\n",
       "      <td>F</td>\n",
       "      <td>WHITE</td>\n",
       "      <td>AMBULANCE</td>\n",
       "      <td>0</td>\n",
       "      <td>10.9</td>\n",
       "      <td>0</td>\n",
       "      <td>10</td>\n",
       "      <td>2</td>\n",
       "      <td>99.1</td>\n",
       "      <td>66.0</td>\n",
       "      <td>16.0</td>\n",
       "      <td>96.0</td>\n",
       "      <td>141.0</td>\n",
       "      <td>86.0</td>\n",
       "      <td>8.0</td>\n",
       "      <td>2.0</td>\n",
       "      <td>4.0</td>\n",
       "      <td>5</td>\n",
       "    </tr>\n",
       "    <tr>\n",
       "      <th>4</th>\n",
       "      <td>F</td>\n",
       "      <td>BLACK</td>\n",
       "      <td>AMBULANCE</td>\n",
       "      <td>0</td>\n",
       "      <td>8.5</td>\n",
       "      <td>12</td>\n",
       "      <td>9</td>\n",
       "      <td>2</td>\n",
       "      <td>97.3</td>\n",
       "      <td>72.0</td>\n",
       "      <td>20.0</td>\n",
       "      <td>100.0</td>\n",
       "      <td>164.0</td>\n",
       "      <td>85.0</td>\n",
       "      <td>8.0</td>\n",
       "      <td>2.0</td>\n",
       "      <td>1.0</td>\n",
       "      <td>5</td>\n",
       "    </tr>\n",
       "  </tbody>\n",
       "</table>\n",
       "</div>"
      ],
      "text/plain": [
       "  gender   race arrival_transport  nights  hours  admission_hour  \\\n",
       "0      F  BLACK         AMBULANCE       0    1.6              11   \n",
       "1      F  WHITE           WALK IN       0    6.3              15   \n",
       "2      F  WHITE         AMBULANCE       0    4.1               9   \n",
       "3      F  WHITE         AMBULANCE       0   10.9               0   \n",
       "4      F  BLACK         AMBULANCE       0    8.5              12   \n",
       "\n",
       "   admission_day  admission_day_of_week  temperature_triage  heartrate_triage  \\\n",
       "0             16                      6                98.0             128.0   \n",
       "1              3                      0                97.7             109.0   \n",
       "2             28                      6                97.9              90.0   \n",
       "3             10                      2                99.1              66.0   \n",
       "4              9                      2                97.3              72.0   \n",
       "\n",
       "   resprate_triage  o2sat_triage  sbp_triage  dbp_triage  pain_triage  acuity  \\\n",
       "0             16.0          96.0       149.0       100.0          0.0     2.0   \n",
       "1             16.0          96.0       108.0        70.0          0.0     2.0   \n",
       "2             16.0         100.0       133.0        86.0          0.0     3.0   \n",
       "3             16.0          96.0       141.0        86.0          8.0     2.0   \n",
       "4             20.0         100.0       164.0        85.0          8.0     2.0   \n",
       "\n",
       "   pain_vitals  count_vital  \n",
       "0          0.0           11  \n",
       "1          0.0            4  \n",
       "2          0.0            1  \n",
       "3          4.0            5  \n",
       "4          1.0            5  "
      ]
     },
     "execution_count": 120,
     "metadata": {},
     "output_type": "execute_result"
    }
   ],
   "source": [
    "test_x_df.head()"
   ]
  },
  {
   "cell_type": "code",
   "execution_count": 121,
   "metadata": {},
   "outputs": [],
   "source": [
    "# Preprocess the test set\n",
    "num_attr = test_x_df.select_dtypes(include=['float64', 'int64']).columns\n",
    "cat_attr = test_x_df.select_dtypes(include=['O']).columns\n",
    "# remove disposition, chiefcomplaint, vital_sign, pre_icd_code in cat_attr\n",
    "trans_pip = ColumnTransformer([\n",
    "    (\"num\",StandardScaler(), num_attr),\n",
    "    (\"cat\",OneHotEncoder(),cat_attr)\n",
    "],remainder='passthrough')"
   ]
  },
  {
   "cell_type": "code",
   "execution_count": 122,
   "metadata": {},
   "outputs": [
    {
     "data": {
      "text/plain": [
       "['num__nights',\n",
       " 'num__hours',\n",
       " 'num__admission_hour',\n",
       " 'num__admission_day',\n",
       " 'num__admission_day_of_week',\n",
       " 'num__temperature_triage',\n",
       " 'num__heartrate_triage',\n",
       " 'num__resprate_triage',\n",
       " 'num__o2sat_triage',\n",
       " 'num__sbp_triage',\n",
       " 'num__dbp_triage',\n",
       " 'num__pain_triage',\n",
       " 'num__acuity',\n",
       " 'num__pain_vitals',\n",
       " 'num__count_vital',\n",
       " 'cat__gender_F',\n",
       " 'cat__gender_M',\n",
       " 'cat__race_ASIAN',\n",
       " 'cat__race_BLACK',\n",
       " 'cat__race_LATINO',\n",
       " 'cat__race_OTHER',\n",
       " 'cat__race_WHITE',\n",
       " 'cat__arrival_transport_AMBULANCE',\n",
       " 'cat__arrival_transport_HELICOPTER',\n",
       " 'cat__arrival_transport_OTHER',\n",
       " 'cat__arrival_transport_UNKNOWN',\n",
       " 'cat__arrival_transport_WALK IN']"
      ]
     },
     "execution_count": 122,
     "metadata": {},
     "output_type": "execute_result"
    }
   ],
   "source": [
    "test_x = trans_pip.fit_transform(test_x_df)\n",
    "\n",
    "feature_names = list(trans_pip.get_feature_names_out())\n",
    "feature_names"
   ]
  },
  {
   "cell_type": "code",
   "execution_count": 123,
   "metadata": {},
   "outputs": [],
   "source": [
    "feature_names.extend(['his_icd_1','his_icd_2','his_icd_3','his_icd_4','his_icd_5','chief_1','chief_2','chief_3','chief_4','chief_5'])"
   ]
  },
  {
   "cell_type": "code",
   "execution_count": 124,
   "metadata": {},
   "outputs": [],
   "source": [
    "# load the model\n",
    "load_model = keras.models.load_model('model/mortality_NN.h5')"
   ]
  },
  {
   "cell_type": "code",
   "execution_count": 125,
   "metadata": {},
   "outputs": [
    {
     "name": "stdout",
     "output_type": "stream",
     "text": [
      "Model: \"model_3\"\n",
      "__________________________________________________________________________________________________\n",
      "Layer (type)                    Output Shape         Param #     Connected to                     \n",
      "==================================================================================================\n",
      "input_6 (InputLayer)            [(None, 5)]          0                                            \n",
      "__________________________________________________________________________________________________\n",
      "input_7 (InputLayer)            [(None, 5)]          0                                            \n",
      "__________________________________________________________________________________________________\n",
      "embedding_3 (Embedding)         (None, 5, 200)       40400       input_6[0][0]                    \n",
      "__________________________________________________________________________________________________\n",
      "embedding_2 (Embedding)         (None, 5, 200)       656600      input_7[0][0]                    \n",
      "__________________________________________________________________________________________________\n",
      "concatenate_1 (Concatenate)     (None, 10, 200)      0           embedding_3[0][0]                \n",
      "                                                                 embedding_2[0][0]                \n",
      "__________________________________________________________________________________________________\n",
      "input_8 (InputLayer)            [(None, None, 6)]    0                                            \n",
      "__________________________________________________________________________________________________\n",
      "input_5 (InputLayer)            [(None, 27)]         0                                            \n",
      "__________________________________________________________________________________________________\n",
      "bidirectional (Bidirectional)   (None, 10, 228)      216144      concatenate_1[0][0]              \n",
      "__________________________________________________________________________________________________\n",
      "bidirectional_2 (Bidirectional) (None, None, 128)    36352       input_8[0][0]                    \n",
      "__________________________________________________________________________________________________\n",
      "dense (Dense)                   (None, 100)          2800        input_5[0][0]                    \n",
      "__________________________________________________________________________________________________\n",
      "bidirectional_1 (Bidirectional) (None, 228)          235296      bidirectional[0][0]              \n",
      "__________________________________________________________________________________________________\n",
      "bidirectional_3 (Bidirectional) (None, 128)          98816       bidirectional_2[0][0]            \n",
      "__________________________________________________________________________________________________\n",
      "dense_1 (Dense)                 (None, 64)           6464        dense[0][0]                      \n",
      "__________________________________________________________________________________________________\n",
      "dense_2 (Dense)                 (None, 64)           14656       bidirectional_1[0][0]            \n",
      "__________________________________________________________________________________________________\n",
      "dense_3 (Dense)                 (None, 64)           8256        bidirectional_3[0][0]            \n",
      "__________________________________________________________________________________________________\n",
      "concatenate_2 (Concatenate)     (None, 192)          0           dense_1[0][0]                    \n",
      "                                                                 dense_2[0][0]                    \n",
      "                                                                 dense_3[0][0]                    \n",
      "__________________________________________________________________________________________________\n",
      "dense_4 (Dense)                 (None, 64)           12352       concatenate_2[0][0]              \n",
      "__________________________________________________________________________________________________\n",
      "dense_5 (Dense)                 (None, 32)           2080        dense_4[0][0]                    \n",
      "__________________________________________________________________________________________________\n",
      "dense_6 (Dense)                 (None, 1)            33          dense_5[0][0]                    \n",
      "==================================================================================================\n",
      "Total params: 1,330,249\n",
      "Trainable params: 633,249\n",
      "Non-trainable params: 697,000\n",
      "__________________________________________________________________________________________________\n"
     ]
    }
   ],
   "source": [
    "load_model.summary()"
   ]
  },
  {
   "cell_type": "code",
   "execution_count": 126,
   "metadata": {},
   "outputs": [
    {
     "name": "stderr",
     "output_type": "stream",
     "text": [
      "`Model.state_updates` will be removed in a future version. This property should not be used in TensorFlow 2.0, as `updates` are applied automatically.\n"
     ]
    }
   ],
   "source": [
    "y_test_pred = load_model.predict(x=[test_x,test_his_vec,test_chef_vec, test_x_vital])"
   ]
  },
  {
   "cell_type": "code",
   "execution_count": 127,
   "metadata": {},
   "outputs": [],
   "source": [
    "y_pred_test_class = np.where(y_test_pred> 0.001, 1, 0)"
   ]
  },
  {
   "cell_type": "code",
   "execution_count": 128,
   "metadata": {},
   "outputs": [
    {
     "name": "stdout",
     "output_type": "stream",
     "text": [
      "              precision    recall  f1-score   support\n",
      "\n",
      "           0       1.00      1.00      1.00     33798\n",
      "           1       0.50      0.11      0.18        37\n",
      "\n",
      "    accuracy                           1.00     33835\n",
      "   macro avg       0.75      0.55      0.59     33835\n",
      "weighted avg       1.00      1.00      1.00     33835\n",
      "\n",
      "balanced accuracy:  0.5539948789549358\n"
     ]
    }
   ],
   "source": [
    "from sklearn.metrics import balanced_accuracy_score, classification_report\n",
    "print(classification_report(test_y, y_pred_test_class.round()))\n",
    "# balanced accuracy\n",
    "print('balanced accuracy: ', balanced_accuracy_score(test_y, y_pred_test_class.round()))"
   ]
  },
  {
   "cell_type": "markdown",
   "metadata": {},
   "source": [
    "# SHAP"
   ]
  },
  {
   "cell_type": "code",
   "execution_count": 129,
   "metadata": {},
   "outputs": [
    {
     "name": "stderr",
     "output_type": "stream",
     "text": [
      "Your TensorFlow version is newer than 2.4.0 and so graph support has been removed in eager mode and some static graphs may not be supported. See PR #1483 for discussion.\n"
     ]
    }
   ],
   "source": [
    "import shap\n",
    "explainer = shap.DeepExplainer(load_model, [test_x[:1000],test_his_vec[:1000],test_chef_vec[:1000], test_x_vital[:1000]])"
   ]
  },
  {
   "cell_type": "code",
   "execution_count": 142,
   "metadata": {},
   "outputs": [
    {
     "data": {
      "text/plain": [
       "(33835, 27)"
      ]
     },
     "execution_count": 142,
     "metadata": {},
     "output_type": "execute_result"
    }
   ],
   "source": [
    "test_x.shape"
   ]
  },
  {
   "cell_type": "code",
   "execution_count": 130,
   "metadata": {},
   "outputs": [],
   "source": [
    "shap_values = explainer.shap_values([test_x[:1000],test_his_vec[:1000],test_chef_vec[:1000], test_x_vital[:1000]])"
   ]
  },
  {
   "cell_type": "code",
   "execution_count": 131,
   "metadata": {},
   "outputs": [
    {
     "data": {
      "image/png": "[encoded data removed]",
      "text/plain": [
       "<Figure size 576x684 with 1 Axes>"
      ]
     },
     "metadata": {
      "needs_background": "light"
     },
     "output_type": "display_data"
    }
   ],
   "source": [
    "shap.summary_plot(np.concatenate([shap_values[0][0], shap_values[0][1], shap_values[0][2]], axis=1), feature_names = feature_names, max_display = 20)"
   ]
  },
  {
   "cell_type": "code",
   "execution_count": 132,
   "metadata": {},
   "outputs": [
    {
     "data": {
      "image/png": "[encoded data removed]",
      "text/plain": [
       "<Figure size 576x684 with 1 Axes>"
      ]
     },
     "metadata": {
      "needs_background": "light"
     },
     "output_type": "display_data"
    }
   ],
   "source": [
    "shap.summary_plot(np.concatenate([shap_values[0][0], shap_values[0][1], shap_values[0][2]], axis=1), feature_names = feature_names, max_display = 20, plot_type=\"bar\")"
   ]
  },
  {
   "cell_type": "code",
   "execution_count": 139,
   "metadata": {},
   "outputs": [
    {
     "name": "stdout",
     "output_type": "stream",
     "text": [
      "423\n",
      "2784\n",
      "7180\n",
      "11023\n",
      "16804\n",
      "32147\n",
      "32191\n",
      "32941\n"
     ]
    }
   ],
   "source": [
    "# check row in test_y array that is 1 i\n",
    "for i in range(0, len(y_pred_test_class)):\n",
    "    if y_pred_test_class[i] == 1:\n",
    "        print(i)"
   ]
  },
  {
   "cell_type": "code",
   "execution_count": 134,
   "metadata": {},
   "outputs": [
    {
     "name": "stdout",
     "output_type": "stream",
     "text": [
      "[[0]]\n"
     ]
    },
    {
     "data": {
      "text/html": [
       "\n",
       "<div id='iDWML7U68E3P160IIZ58U'>\n",
       "<div style='color: #900; text-align: center;'>\n",
       "  <b>Visualization omitted, Javascript library not loaded!</b><br>\n",
       "  Have you run `initjs()` in this notebook? If this notebook was from another\n",
       "  user you must also trust this notebook (File -> Trust notebook). If you are viewing\n",
       "  this notebook on github the Javascript has been stripped for security. If you are using\n",
       "  JupyterLab this error is because a JupyterLab extension has not yet been written.\n",
       "</div></div>\n",
       " <script>\n",
       "   if (window.SHAP) SHAP.ReactDom.render(\n",
       "    SHAP.React.createElement(SHAP.AdditiveForceVisualizer, {\"outNames\": [\"f(x)\"], \"baseValue\": 1.9225677533540875e-05, \"outValue\": 2.7446743591554034e-08, \"link\": \"identity\", \"featureNames\": [\"num__nights\", \"num__hours\", \"num__admission_hour\", \"num__admission_day\", \"num__admission_day_of_week\", \"num__temperature_triage\", \"num__heartrate_triage\", \"num__resprate_triage\", \"num__o2sat_triage\", \"num__sbp_triage\", \"num__dbp_triage\", \"num__pain_triage\", \"num__acuity\", \"num__pain_vitals\", \"num__count_vital\", \"cat__gender_F\", \"cat__gender_M\", \"cat__race_ASIAN\", \"cat__race_BLACK\", \"cat__race_LATINO\", \"cat__race_OTHER\", \"cat__race_WHITE\", \"cat__arrival_transport_AMBULANCE\", \"cat__arrival_transport_HELICOPTER\", \"cat__arrival_transport_OTHER\", \"cat__arrival_transport_UNKNOWN\", \"cat__arrival_transport_WALK IN\", \"his_icd_1\", \"his_icd_2\", \"his_icd_3\", \"his_icd_4\", \"his_icd_5\", \"chief_1\", \"chief_2\", \"chief_3\", \"chief_4\", \"chief_5\"], \"features\": {\"0\": {\"effect\": -9.100555253130209e-07, \"value\": \"\"}, \"1\": {\"effect\": 5.598448175932801e-07, \"value\": \"\"}, \"2\": {\"effect\": 6.046016355041884e-07, \"value\": \"\"}, \"3\": {\"effect\": -6.201211768119551e-07, \"value\": \"\"}, \"4\": {\"effect\": 5.21914453967661e-07, \"value\": \"\"}, \"5\": {\"effect\": -1.1817211887366157e-09, \"value\": \"\"}, \"6\": {\"effect\": -4.106571588300906e-06, \"value\": \"\"}, \"7\": {\"effect\": -1.6842504922018629e-06, \"value\": \"\"}, \"8\": {\"effect\": 1.1905644057783688e-07, \"value\": \"\"}, \"9\": {\"effect\": -8.470412978626332e-07, \"value\": \"\"}, \"10\": {\"effect\": 1.792712115634009e-07, \"value\": \"\"}, \"11\": {\"effect\": 3.1891935034548735e-08, \"value\": \"\"}, \"12\": {\"effect\": -2.4768519466125195e-06, \"value\": \"\"}, \"13\": {\"effect\": 1.2108178775740327e-08, \"value\": \"\"}, \"14\": {\"effect\": -4.774712405563793e-06, \"value\": \"\"}, \"15\": {\"effect\": -2.4791335431859e-07, \"value\": \"\"}, \"16\": {\"effect\": 2.0697771700713024e-06, \"value\": \"\"}, \"17\": {\"effect\": 2.6213524416797506e-10, \"value\": \"\"}, \"18\": {\"effect\": -1.564200675008274e-08, \"value\": \"\"}, \"19\": {\"effect\": 7.344876272975461e-10, \"value\": \"\"}, \"20\": {\"effect\": 1.3151203350642366e-09, \"value\": \"\"}, \"21\": {\"effect\": 3.902254133801237e-10, \"value\": \"\"}, \"22\": {\"effect\": -1.88068675794291e-08, \"value\": \"\"}, \"23\": {\"effect\": -1.5614899062654785e-10, \"value\": \"\"}, \"24\": {\"effect\": 1.816781817817596e-11, \"value\": \"\"}, \"25\": {\"effect\": 4.143026983585577e-09, \"value\": \"\"}, \"26\": {\"effect\": 2.2447496410478772e-08, \"value\": \"\"}, \"27\": {\"effect\": 6.8255196528942315e-09, \"value\": \"\"}, \"32\": {\"effect\": -1.6306812280891093e-06, \"value\": \"\"}, \"33\": {\"effect\": -4.2646794560309565e-06, \"value\": \"\"}, \"34\": {\"effect\": -1.7322994665853045e-06, \"value\": \"\"}, \"35\": {\"effect\": -1.508954779259003e-09, \"value\": \"\"}, \"36\": {\"effect\": -3.591755435382833e-10, \"value\": \"\"}}, \"plot_cmap\": \"RdBu\", \"labelMargin\": 20}),\n",
       "    document.getElementById('iDWML7U68E3P160IIZ58U')\n",
       "  );\n",
       "</script>"
      ],
      "text/plain": [
       "<shap.plots._force.AdditiveForceVisualizer at 0x1ff87a63c10>"
      ]
     },
     "execution_count": 134,
     "metadata": {},
     "output_type": "execute_result"
    }
   ],
   "source": [
    "y_pred_test_class_0 = np.where(load_model.predict(x=[test_x[0:1],test_his_vec[0:1],test_chef_vec[0:1], test_x_vital[0:1]])> 0.000001, 1, 0)\n",
    "print(y_pred_test_class_0)\n",
    "shap_values_0 = explainer.shap_values([test_x[0:1], test_his_vec[0:1], test_chef_vec[0:1], test_x_vital[0:1]])\n",
    "shap.force_plot(explainer.expected_value[0], np.concatenate([shap_values_0[0][0], shap_values_0[0][1], shap_values_0[0][2]], axis=1), feature_names = feature_names)"
   ]
  },
  {
   "cell_type": "code",
   "execution_count": 141,
   "metadata": {},
   "outputs": [
    {
     "name": "stdout",
     "output_type": "stream",
     "text": [
      "[[1]]\n"
     ]
    },
    {
     "data": {
      "text/html": [
       "\n",
       "<div id='iNEF5K1S5PYRGSF9ZCXDX'>\n",
       "<div style='color: #900; text-align: center;'>\n",
       "  <b>Visualization omitted, Javascript library not loaded!</b><br>\n",
       "  Have you run `initjs()` in this notebook? If this notebook was from another\n",
       "  user you must also trust this notebook (File -> Trust notebook). If you are viewing\n",
       "  this notebook on github the Javascript has been stripped for security. If you are using\n",
       "  JupyterLab this error is because a JupyterLab extension has not yet been written.\n",
       "</div></div>\n",
       " <script>\n",
       "   if (window.SHAP) SHAP.ReactDom.render(\n",
       "    SHAP.React.createElement(SHAP.AdditiveForceVisualizer, {\"outNames\": [\"f(x)\"], \"baseValue\": 1.9225677533540875e-05, \"outValue\": 0.01872429661766221, \"link\": \"identity\", \"featureNames\": [\"num__nights\", \"num__hours\", \"num__admission_hour\", \"num__admission_day\", \"num__admission_day_of_week\", \"num__temperature_triage\", \"num__heartrate_triage\", \"num__resprate_triage\", \"num__o2sat_triage\", \"num__sbp_triage\", \"num__dbp_triage\", \"num__pain_triage\", \"num__acuity\", \"num__pain_vitals\", \"num__count_vital\", \"cat__gender_F\", \"cat__gender_M\", \"cat__race_ASIAN\", \"cat__race_BLACK\", \"cat__race_LATINO\", \"cat__race_OTHER\", \"cat__race_WHITE\", \"cat__arrival_transport_AMBULANCE\", \"cat__arrival_transport_HELICOPTER\", \"cat__arrival_transport_OTHER\", \"cat__arrival_transport_UNKNOWN\", \"cat__arrival_transport_WALK IN\", \"his_icd_1\", \"his_icd_2\", \"his_icd_3\", \"his_icd_4\", \"his_icd_5\", \"chief_1\", \"chief_2\", \"chief_3\", \"chief_4\", \"chief_5\"], \"features\": {\"0\": {\"effect\": 0.0009466353954673366, \"value\": \"\"}, \"1\": {\"effect\": 0.0008127263528831895, \"value\": \"\"}, \"2\": {\"effect\": -0.0014170216387822123, \"value\": \"\"}, \"3\": {\"effect\": 0.0004018731466396108, \"value\": \"\"}, \"4\": {\"effect\": -0.00046013383957094656, \"value\": \"\"}, \"5\": {\"effect\": 0.00019247219021979162, \"value\": \"\"}, \"6\": {\"effect\": 0.000847713566288756, \"value\": \"\"}, \"7\": {\"effect\": 0.0004897476494323418, \"value\": \"\"}, \"8\": {\"effect\": -0.00014759114932059907, \"value\": \"\"}, \"9\": {\"effect\": 0.0011266489666133712, \"value\": \"\"}, \"10\": {\"effect\": 4.255911555134474e-05, \"value\": \"\"}, \"11\": {\"effect\": 0.0009091966711755215, \"value\": \"\"}, \"12\": {\"effect\": 0.0024231058979530713, \"value\": \"\"}, \"13\": {\"effect\": 0.0003927458839506864, \"value\": \"\"}, \"14\": {\"effect\": 0.0028134371130914787, \"value\": \"\"}, \"15\": {\"effect\": 0.0007029045083986035, \"value\": \"\"}, \"16\": {\"effect\": -0.000724490862940911, \"value\": \"\"}, \"17\": {\"effect\": 3.188208257097358e-05, \"value\": \"\"}, \"18\": {\"effect\": -0.00028320746564656926, \"value\": \"\"}, \"19\": {\"effect\": 0.00012571704550646247, \"value\": \"\"}, \"20\": {\"effect\": 0.00012975257881817014, \"value\": \"\"}, \"21\": {\"effect\": 0.0008371226528270199, \"value\": \"\"}, \"22\": {\"effect\": -0.0007439314592893424, \"value\": \"\"}, \"23\": {\"effect\": 1.451390329748392e-06, \"value\": \"\"}, \"24\": {\"effect\": 2.0275847055017948e-06, \"value\": \"\"}, \"25\": {\"effect\": 8.087334188354588e-05, \"value\": \"\"}, \"26\": {\"effect\": 0.0014751073954721505, \"value\": \"\"}, \"27\": {\"effect\": 0.00019871645804050785, \"value\": \"\"}, \"32\": {\"effect\": 0.0033955656690595787, \"value\": \"\"}, \"33\": {\"effect\": 0.0035661067250795215, \"value\": \"\"}, \"34\": {\"effect\": 0.00041705235250025653, \"value\": \"\"}, \"35\": {\"effect\": 0.00010895658385598494, \"value\": \"\"}, \"36\": {\"effect\": 9.349037364728475e-06, \"value\": \"\"}}, \"plot_cmap\": \"RdBu\", \"labelMargin\": 20}),\n",
       "    document.getElementById('iNEF5K1S5PYRGSF9ZCXDX')\n",
       "  );\n",
       "</script>"
      ],
      "text/plain": [
       "<shap.plots._force.AdditiveForceVisualizer at 0x1ff87a95f40>"
      ]
     },
     "execution_count": 141,
     "metadata": {},
     "output_type": "execute_result"
    }
   ],
   "source": [
    "y_pred_test_class_423 = np.where(load_model.predict(x=[test_x[423:424],test_his_vec[423:424],test_chef_vec[423:424], test_x_vital[423:424]])> 0.000001, 1, 0)\n",
    "print(y_pred_test_class_423)\n",
    "shap_values_423 = explainer.shap_values([test_x[423:424], test_his_vec[423:424], test_chef_vec[423:424], test_x_vital[423:424]])\n",
    "shap.force_plot(explainer.expected_value[0], np.concatenate([shap_values_423[0][0], shap_values_423[0][1], shap_values_423[0][2]], axis=1), feature_names = feature_names)"
   ]
  },
  {
   "cell_type": "code",
   "execution_count": 136,
   "metadata": {},
   "outputs": [
    {
     "name": "stdout",
     "output_type": "stream",
     "text": [
      "[[1]]\n"
     ]
    },
    {
     "data": {
      "text/html": [
       "\n",
       "<div id='iJS4A2UN8X9VC9QSHD21D'>\n",
       "<div style='color: #900; text-align: center;'>\n",
       "  <b>Visualization omitted, Javascript library not loaded!</b><br>\n",
       "  Have you run `initjs()` in this notebook? If this notebook was from another\n",
       "  user you must also trust this notebook (File -> Trust notebook). If you are viewing\n",
       "  this notebook on github the Javascript has been stripped for security. If you are using\n",
       "  JupyterLab this error is because a JupyterLab extension has not yet been written.\n",
       "</div></div>\n",
       " <script>\n",
       "   if (window.SHAP) SHAP.ReactDom.render(\n",
       "    SHAP.React.createElement(SHAP.AdditiveForceVisualizer, {\"outNames\": [\"f(x)\"], \"baseValue\": 1.9225677533540875e-05, \"outValue\": 0.026012579447861055, \"link\": \"identity\", \"featureNames\": [\"num__nights\", \"num__hours\", \"num__admission_hour\", \"num__admission_day\", \"num__admission_day_of_week\", \"num__temperature_triage\", \"num__heartrate_triage\", \"num__resprate_triage\", \"num__o2sat_triage\", \"num__sbp_triage\", \"num__dbp_triage\", \"num__pain_triage\", \"num__acuity\", \"num__pain_vitals\", \"num__count_vital\", \"cat__gender_F\", \"cat__gender_M\", \"cat__race_ASIAN\", \"cat__race_BLACK\", \"cat__race_LATINO\", \"cat__race_OTHER\", \"cat__race_WHITE\", \"cat__arrival_transport_AMBULANCE\", \"cat__arrival_transport_HELICOPTER\", \"cat__arrival_transport_OTHER\", \"cat__arrival_transport_UNKNOWN\", \"cat__arrival_transport_WALK IN\", \"his_icd_1\", \"his_icd_2\", \"his_icd_3\", \"his_icd_4\", \"his_icd_5\", \"chief_1\", \"chief_2\", \"chief_3\", \"chief_4\", \"chief_5\"], \"features\": {\"0\": {\"effect\": -0.0002529639345289907, \"value\": \"\"}, \"1\": {\"effect\": 0.00031730986766613257, \"value\": \"\"}, \"2\": {\"effect\": 0.0005393254181277467, \"value\": \"\"}, \"3\": {\"effect\": 0.0002535129006206196, \"value\": \"\"}, \"4\": {\"effect\": 0.000870268701330764, \"value\": \"\"}, \"5\": {\"effect\": 0.0003304300832840432, \"value\": \"\"}, \"6\": {\"effect\": 0.0009605976992873243, \"value\": \"\"}, \"7\": {\"effect\": 0.0006960806239028885, \"value\": \"\"}, \"8\": {\"effect\": -7.249878010871106e-05, \"value\": \"\"}, \"9\": {\"effect\": 0.001477564150507618, \"value\": \"\"}, \"10\": {\"effect\": 5.629383617670063e-05, \"value\": \"\"}, \"11\": {\"effect\": 0.0007373778433948497, \"value\": \"\"}, \"12\": {\"effect\": 0.004302089091491862, \"value\": \"\"}, \"13\": {\"effect\": 0.00019102750791180056, \"value\": \"\"}, \"14\": {\"effect\": 0.0027392637670408493, \"value\": \"\"}, \"15\": {\"effect\": -0.0007904635131571922, \"value\": \"\"}, \"16\": {\"effect\": 0.001016215001784076, \"value\": \"\"}, \"17\": {\"effect\": 7.327099374379031e-05, \"value\": \"\"}, \"18\": {\"effect\": 7.427714425284648e-05, \"value\": \"\"}, \"19\": {\"effect\": 0.00017877600993961097, \"value\": \"\"}, \"20\": {\"effect\": 0.00022122321555798408, \"value\": \"\"}, \"21\": {\"effect\": -0.0006746440750366674, \"value\": \"\"}, \"22\": {\"effect\": -0.0011124703746451133, \"value\": \"\"}, \"23\": {\"effect\": 1.0595270432531834e-06, \"value\": \"\"}, \"24\": {\"effect\": 4.5503999572247266e-06, \"value\": \"\"}, \"25\": {\"effect\": 0.0002733475248678587, \"value\": \"\"}, \"26\": {\"effect\": 0.0031597919274281593, \"value\": \"\"}, \"27\": {\"effect\": 0.00026938547593772453, \"value\": \"\"}, \"32\": {\"effect\": 0.00459777767288108, \"value\": \"\"}, \"33\": {\"effect\": 0.0048295496198215914, \"value\": \"\"}, \"34\": {\"effect\": 0.0005655066862000524, \"value\": \"\"}, \"35\": {\"effect\": 0.00014779729369044503, \"value\": \"\"}, \"36\": {\"effect\": 1.2724463955294141e-05, \"value\": \"\"}}, \"plot_cmap\": \"RdBu\", \"labelMargin\": 20}),\n",
       "    document.getElementById('iJS4A2UN8X9VC9QSHD21D')\n",
       "  );\n",
       "</script>"
      ],
      "text/plain": [
       "<shap.plots._force.AdditiveForceVisualizer at 0x1ff87b27070>"
      ]
     },
     "execution_count": 136,
     "metadata": {},
     "output_type": "execute_result"
    }
   ],
   "source": [
    "y_pred_test_class_2784 = np.where(load_model.predict(x=[test_x[2784:2785],test_his_vec[2784:2785],test_chef_vec[2784:2785], test_x_vital[2784:2785]])> 0.000001, 1, 0)\n",
    "print(y_pred_test_class_2784)\n",
    "# force plot for the 2784th patient\n",
    "shap_values2784 = explainer.shap_values([test_x[2784:2785], test_his_vec[2784:2785], test_chef_vec[2784:2785], test_x_vital[2784:2785]])\n",
    "shap.force_plot(explainer.expected_value[0], np.concatenate([shap_values2784[0][0], shap_values2784[0][1], shap_values2784[0][2]], axis=1), feature_names = feature_names)\n"
   ]
  }
 ],
 "metadata": {
  "kernelspec": {
   "display_name": "Python 3.8.13 ('cits5508-2022')",
   "language": "python",
   "name": "python3"
  },
  "language_info": {
   "codemirror_mode": {
    "name": "ipython",
    "version": 3
   },
   "file_extension": ".py",
   "mimetype": "text/x-python",
   "name": "python",
   "nbconvert_exporter": "python",
   "pygments_lexer": "ipython3",
   "version": "3.8.13"
  },
  "orig_nbformat": 4,
  "vscode": {
   "interpreter": {
    "hash": "e76ac7eeabb105aa1246097c96e646103274133995bd452e23f5f53551342ac1"
   }
  }
 },
 "nbformat": 4,
 "nbformat_minor": 2
}
